{
 "cells": [
  {
   "cell_type": "markdown",
   "metadata": {},
   "source": [
    "###  Data Analysis of Black Friday"
   ]
  },
  {
   "cell_type": "code",
   "execution_count": 1,
   "metadata": {},
   "outputs": [],
   "source": [
    "# Load EDA\n",
    "import pandas as pd \n",
    "import numpy as np"
   ]
  },
  {
   "cell_type": "code",
   "execution_count": 2,
   "metadata": {},
   "outputs": [
    {
     "name": "stderr",
     "output_type": "stream",
     "text": [
      "/usr/local/lib/python3.7/dist-packages/statsmodels/tools/_testing.py:19: FutureWarning: pandas.util.testing is deprecated. Use the functions in the public API at pandas.testing instead.\n",
      "  import pandas.util.testing as tm\n"
     ]
    }
   ],
   "source": [
    "# Load Data Viz\n",
    "import matplotlib.pyplot as plt \n",
    "import seaborn as sns"
   ]
  },
  {
   "cell_type": "code",
   "execution_count": 71,
   "metadata": {},
   "outputs": [],
   "source": [
    "# Load Dataset\n",
    "df = pd.read_csv(\"BlackFriday.csv\")"
   ]
  },
  {
   "cell_type": "code",
   "execution_count": 5,
   "metadata": {},
   "outputs": [
    {
     "data": {
      "text/html": [
       "<div>\n",
       "<style scoped>\n",
       "    .dataframe tbody tr th:only-of-type {\n",
       "        vertical-align: middle;\n",
       "    }\n",
       "\n",
       "    .dataframe tbody tr th {\n",
       "        vertical-align: top;\n",
       "    }\n",
       "\n",
       "    .dataframe thead th {\n",
       "        text-align: right;\n",
       "    }\n",
       "</style>\n",
       "<table border=\"1\" class=\"dataframe\">\n",
       "  <thead>\n",
       "    <tr style=\"text-align: right;\">\n",
       "      <th></th>\n",
       "      <th>User_ID</th>\n",
       "      <th>Product_ID</th>\n",
       "      <th>Gender</th>\n",
       "      <th>Age</th>\n",
       "      <th>Occupation</th>\n",
       "      <th>City_Category</th>\n",
       "      <th>Stay_In_Current_City_Years</th>\n",
       "      <th>Marital_Status</th>\n",
       "      <th>Product_Category_1</th>\n",
       "      <th>Product_Category_2</th>\n",
       "      <th>Product_Category_3</th>\n",
       "      <th>Purchase</th>\n",
       "    </tr>\n",
       "  </thead>\n",
       "  <tbody>\n",
       "    <tr>\n",
       "      <th>0</th>\n",
       "      <td>1000001</td>\n",
       "      <td>P00069042</td>\n",
       "      <td>F</td>\n",
       "      <td>0-17</td>\n",
       "      <td>10</td>\n",
       "      <td>A</td>\n",
       "      <td>2</td>\n",
       "      <td>0</td>\n",
       "      <td>3</td>\n",
       "      <td>NaN</td>\n",
       "      <td>NaN</td>\n",
       "      <td>8370</td>\n",
       "    </tr>\n",
       "    <tr>\n",
       "      <th>1</th>\n",
       "      <td>1000001</td>\n",
       "      <td>P00248942</td>\n",
       "      <td>F</td>\n",
       "      <td>0-17</td>\n",
       "      <td>10</td>\n",
       "      <td>A</td>\n",
       "      <td>2</td>\n",
       "      <td>0</td>\n",
       "      <td>1</td>\n",
       "      <td>6.0</td>\n",
       "      <td>14.0</td>\n",
       "      <td>15200</td>\n",
       "    </tr>\n",
       "    <tr>\n",
       "      <th>2</th>\n",
       "      <td>1000001</td>\n",
       "      <td>P00087842</td>\n",
       "      <td>F</td>\n",
       "      <td>0-17</td>\n",
       "      <td>10</td>\n",
       "      <td>A</td>\n",
       "      <td>2</td>\n",
       "      <td>0</td>\n",
       "      <td>12</td>\n",
       "      <td>NaN</td>\n",
       "      <td>NaN</td>\n",
       "      <td>1422</td>\n",
       "    </tr>\n",
       "    <tr>\n",
       "      <th>3</th>\n",
       "      <td>1000001</td>\n",
       "      <td>P00085442</td>\n",
       "      <td>F</td>\n",
       "      <td>0-17</td>\n",
       "      <td>10</td>\n",
       "      <td>A</td>\n",
       "      <td>2</td>\n",
       "      <td>0</td>\n",
       "      <td>12</td>\n",
       "      <td>14.0</td>\n",
       "      <td>NaN</td>\n",
       "      <td>1057</td>\n",
       "    </tr>\n",
       "    <tr>\n",
       "      <th>4</th>\n",
       "      <td>1000002</td>\n",
       "      <td>P00285442</td>\n",
       "      <td>M</td>\n",
       "      <td>55+</td>\n",
       "      <td>16</td>\n",
       "      <td>C</td>\n",
       "      <td>4+</td>\n",
       "      <td>0</td>\n",
       "      <td>8</td>\n",
       "      <td>NaN</td>\n",
       "      <td>NaN</td>\n",
       "      <td>7969</td>\n",
       "    </tr>\n",
       "  </tbody>\n",
       "</table>\n",
       "</div>"
      ],
      "text/plain": [
       "   User_ID Product_ID Gender   Age  Occupation City_Category  \\\n",
       "0  1000001  P00069042      F  0-17          10             A   \n",
       "1  1000001  P00248942      F  0-17          10             A   \n",
       "2  1000001  P00087842      F  0-17          10             A   \n",
       "3  1000001  P00085442      F  0-17          10             A   \n",
       "4  1000002  P00285442      M   55+          16             C   \n",
       "\n",
       "  Stay_In_Current_City_Years  Marital_Status  Product_Category_1  \\\n",
       "0                          2               0                   3   \n",
       "1                          2               0                   1   \n",
       "2                          2               0                  12   \n",
       "3                          2               0                  12   \n",
       "4                         4+               0                   8   \n",
       "\n",
       "   Product_Category_2  Product_Category_3  Purchase  \n",
       "0                 NaN                 NaN      8370  \n",
       "1                 6.0                14.0     15200  \n",
       "2                 NaN                 NaN      1422  \n",
       "3                14.0                 NaN      1057  \n",
       "4                 NaN                 NaN      7969  "
      ]
     },
     "execution_count": 5,
     "metadata": {},
     "output_type": "execute_result"
    }
   ],
   "source": [
    "df.head()"
   ]
  },
  {
   "cell_type": "code",
   "execution_count": 6,
   "metadata": {
    "collapsed": true,
    "jupyter": {
     "outputs_hidden": true
    }
   },
   "outputs": [
    {
     "name": "stdout",
     "output_type": "stream",
     "text": [
      "<class 'pandas.core.frame.DataFrame'>\n",
      "RangeIndex: 537577 entries, 0 to 537576\n",
      "Data columns (total 12 columns):\n",
      " #   Column                      Non-Null Count   Dtype  \n",
      "---  ------                      --------------   -----  \n",
      " 0   User_ID                     537577 non-null  int64  \n",
      " 1   Product_ID                  537577 non-null  object \n",
      " 2   Gender                      537577 non-null  object \n",
      " 3   Age                         537577 non-null  object \n",
      " 4   Occupation                  537577 non-null  int64  \n",
      " 5   City_Category               537577 non-null  object \n",
      " 6   Stay_In_Current_City_Years  537577 non-null  object \n",
      " 7   Marital_Status              537577 non-null  int64  \n",
      " 8   Product_Category_1          537577 non-null  int64  \n",
      " 9   Product_Category_2          370591 non-null  float64\n",
      " 10  Product_Category_3          164278 non-null  float64\n",
      " 11  Purchase                    537577 non-null  int64  \n",
      "dtypes: float64(2), int64(5), object(5)\n",
      "memory usage: 49.2+ MB\n"
     ]
    }
   ],
   "source": [
    "df.info()"
   ]
  },
  {
   "cell_type": "code",
   "execution_count": 7,
   "metadata": {},
   "outputs": [
    {
     "data": {
      "text/html": [
       "<div>\n",
       "<style scoped>\n",
       "    .dataframe tbody tr th:only-of-type {\n",
       "        vertical-align: middle;\n",
       "    }\n",
       "\n",
       "    .dataframe tbody tr th {\n",
       "        vertical-align: top;\n",
       "    }\n",
       "\n",
       "    .dataframe thead th {\n",
       "        text-align: right;\n",
       "    }\n",
       "</style>\n",
       "<table border=\"1\" class=\"dataframe\">\n",
       "  <thead>\n",
       "    <tr style=\"text-align: right;\">\n",
       "      <th></th>\n",
       "      <th>User_ID</th>\n",
       "      <th>Occupation</th>\n",
       "      <th>Marital_Status</th>\n",
       "      <th>Product_Category_1</th>\n",
       "      <th>Product_Category_2</th>\n",
       "      <th>Product_Category_3</th>\n",
       "      <th>Purchase</th>\n",
       "    </tr>\n",
       "  </thead>\n",
       "  <tbody>\n",
       "    <tr>\n",
       "      <th>count</th>\n",
       "      <td>5.375770e+05</td>\n",
       "      <td>537577.00000</td>\n",
       "      <td>537577.000000</td>\n",
       "      <td>537577.000000</td>\n",
       "      <td>370591.000000</td>\n",
       "      <td>164278.000000</td>\n",
       "      <td>537577.000000</td>\n",
       "    </tr>\n",
       "    <tr>\n",
       "      <th>mean</th>\n",
       "      <td>1.002992e+06</td>\n",
       "      <td>8.08271</td>\n",
       "      <td>0.408797</td>\n",
       "      <td>5.295546</td>\n",
       "      <td>9.842144</td>\n",
       "      <td>12.669840</td>\n",
       "      <td>9333.859853</td>\n",
       "    </tr>\n",
       "    <tr>\n",
       "      <th>std</th>\n",
       "      <td>1.714393e+03</td>\n",
       "      <td>6.52412</td>\n",
       "      <td>0.491612</td>\n",
       "      <td>3.750701</td>\n",
       "      <td>5.087259</td>\n",
       "      <td>4.124341</td>\n",
       "      <td>4981.022133</td>\n",
       "    </tr>\n",
       "    <tr>\n",
       "      <th>min</th>\n",
       "      <td>1.000001e+06</td>\n",
       "      <td>0.00000</td>\n",
       "      <td>0.000000</td>\n",
       "      <td>1.000000</td>\n",
       "      <td>2.000000</td>\n",
       "      <td>3.000000</td>\n",
       "      <td>185.000000</td>\n",
       "    </tr>\n",
       "    <tr>\n",
       "      <th>25%</th>\n",
       "      <td>1.001495e+06</td>\n",
       "      <td>2.00000</td>\n",
       "      <td>0.000000</td>\n",
       "      <td>1.000000</td>\n",
       "      <td>5.000000</td>\n",
       "      <td>9.000000</td>\n",
       "      <td>5866.000000</td>\n",
       "    </tr>\n",
       "    <tr>\n",
       "      <th>50%</th>\n",
       "      <td>1.003031e+06</td>\n",
       "      <td>7.00000</td>\n",
       "      <td>0.000000</td>\n",
       "      <td>5.000000</td>\n",
       "      <td>9.000000</td>\n",
       "      <td>14.000000</td>\n",
       "      <td>8062.000000</td>\n",
       "    </tr>\n",
       "    <tr>\n",
       "      <th>75%</th>\n",
       "      <td>1.004417e+06</td>\n",
       "      <td>14.00000</td>\n",
       "      <td>1.000000</td>\n",
       "      <td>8.000000</td>\n",
       "      <td>15.000000</td>\n",
       "      <td>16.000000</td>\n",
       "      <td>12073.000000</td>\n",
       "    </tr>\n",
       "    <tr>\n",
       "      <th>max</th>\n",
       "      <td>1.006040e+06</td>\n",
       "      <td>20.00000</td>\n",
       "      <td>1.000000</td>\n",
       "      <td>18.000000</td>\n",
       "      <td>18.000000</td>\n",
       "      <td>18.000000</td>\n",
       "      <td>23961.000000</td>\n",
       "    </tr>\n",
       "  </tbody>\n",
       "</table>\n",
       "</div>"
      ],
      "text/plain": [
       "            User_ID    Occupation  Marital_Status  Product_Category_1  \\\n",
       "count  5.375770e+05  537577.00000   537577.000000       537577.000000   \n",
       "mean   1.002992e+06       8.08271        0.408797            5.295546   \n",
       "std    1.714393e+03       6.52412        0.491612            3.750701   \n",
       "min    1.000001e+06       0.00000        0.000000            1.000000   \n",
       "25%    1.001495e+06       2.00000        0.000000            1.000000   \n",
       "50%    1.003031e+06       7.00000        0.000000            5.000000   \n",
       "75%    1.004417e+06      14.00000        1.000000            8.000000   \n",
       "max    1.006040e+06      20.00000        1.000000           18.000000   \n",
       "\n",
       "       Product_Category_2  Product_Category_3       Purchase  \n",
       "count       370591.000000       164278.000000  537577.000000  \n",
       "mean             9.842144           12.669840    9333.859853  \n",
       "std              5.087259            4.124341    4981.022133  \n",
       "min              2.000000            3.000000     185.000000  \n",
       "25%              5.000000            9.000000    5866.000000  \n",
       "50%              9.000000           14.000000    8062.000000  \n",
       "75%             15.000000           16.000000   12073.000000  \n",
       "max             18.000000           18.000000   23961.000000  "
      ]
     },
     "execution_count": 7,
     "metadata": {},
     "output_type": "execute_result"
    }
   ],
   "source": [
    "# DataType \n",
    "df.describe()"
   ]
  },
  {
   "cell_type": "code",
   "execution_count": 8,
   "metadata": {},
   "outputs": [
    {
     "data": {
      "text/plain": [
       "User_ID                            0\n",
       "Product_ID                         0\n",
       "Gender                             0\n",
       "Age                                0\n",
       "Occupation                         0\n",
       "City_Category                      0\n",
       "Stay_In_Current_City_Years         0\n",
       "Marital_Status                     0\n",
       "Product_Category_1                 0\n",
       "Product_Category_2            166986\n",
       "Product_Category_3            373299\n",
       "Purchase                           0\n",
       "dtype: int64"
      ]
     },
     "execution_count": 8,
     "metadata": {},
     "output_type": "execute_result"
    }
   ],
   "source": [
    "df.isnull().sum()"
   ]
  },
  {
   "cell_type": "code",
   "execution_count": 9,
   "metadata": {},
   "outputs": [
    {
     "data": {
      "text/plain": [
       "Index(['User_ID', 'Product_ID', 'Gender', 'Age', 'Occupation', 'City_Category',\n",
       "       'Stay_In_Current_City_Years', 'Marital_Status', 'Product_Category_1',\n",
       "       'Product_Category_2', 'Product_Category_3', 'Purchase'],\n",
       "      dtype='object')"
      ]
     },
     "execution_count": 9,
     "metadata": {},
     "output_type": "execute_result"
    }
   ],
   "source": [
    "# City Category\n",
    "df.columns"
   ]
  },
  {
   "cell_type": "code",
   "execution_count": 10,
   "metadata": {},
   "outputs": [
    {
     "data": {
      "text/plain": [
       "array(['A', 'C', 'B'], dtype=object)"
      ]
     },
     "execution_count": 10,
     "metadata": {},
     "output_type": "execute_result"
    }
   ],
   "source": [
    "# List of Unique\n",
    "df['City_Category'].unique()"
   ]
  },
  {
   "cell_type": "code",
   "execution_count": 11,
   "metadata": {},
   "outputs": [
    {
     "data": {
      "text/plain": [
       "B    226493\n",
       "C    166446\n",
       "A    144638\n",
       "Name: City_Category, dtype: int64"
      ]
     },
     "execution_count": 11,
     "metadata": {},
     "output_type": "execute_result"
    }
   ],
   "source": [
    "# Value Counts\n",
    "df['City_Category'].value_counts()"
   ]
  },
  {
   "cell_type": "code",
   "execution_count": 12,
   "metadata": {},
   "outputs": [],
   "source": [
    "# Value Counts\n",
    "cc_df = df['City_Category'].value_counts().to_frame()"
   ]
  },
  {
   "cell_type": "code",
   "execution_count": 13,
   "metadata": {},
   "outputs": [],
   "source": [
    "cc_df = cc_df.reset_index()"
   ]
  },
  {
   "cell_type": "code",
   "execution_count": 14,
   "metadata": {},
   "outputs": [
    {
     "data": {
      "text/html": [
       "<div>\n",
       "<style scoped>\n",
       "    .dataframe tbody tr th:only-of-type {\n",
       "        vertical-align: middle;\n",
       "    }\n",
       "\n",
       "    .dataframe tbody tr th {\n",
       "        vertical-align: top;\n",
       "    }\n",
       "\n",
       "    .dataframe thead th {\n",
       "        text-align: right;\n",
       "    }\n",
       "</style>\n",
       "<table border=\"1\" class=\"dataframe\">\n",
       "  <thead>\n",
       "    <tr style=\"text-align: right;\">\n",
       "      <th></th>\n",
       "      <th>index</th>\n",
       "      <th>City_Category</th>\n",
       "    </tr>\n",
       "  </thead>\n",
       "  <tbody>\n",
       "    <tr>\n",
       "      <th>0</th>\n",
       "      <td>B</td>\n",
       "      <td>226493</td>\n",
       "    </tr>\n",
       "    <tr>\n",
       "      <th>1</th>\n",
       "      <td>C</td>\n",
       "      <td>166446</td>\n",
       "    </tr>\n",
       "    <tr>\n",
       "      <th>2</th>\n",
       "      <td>A</td>\n",
       "      <td>144638</td>\n",
       "    </tr>\n",
       "  </tbody>\n",
       "</table>\n",
       "</div>"
      ],
      "text/plain": [
       "  index  City_Category\n",
       "0     B         226493\n",
       "1     C         166446\n",
       "2     A         144638"
      ]
     },
     "execution_count": 14,
     "metadata": {},
     "output_type": "execute_result"
    }
   ],
   "source": [
    "cc_df"
   ]
  },
  {
   "cell_type": "code",
   "execution_count": 15,
   "metadata": {},
   "outputs": [
    {
     "data": {
      "text/plain": [
       "<matplotlib.axes._subplots.AxesSubplot at 0x7f2743c21450>"
      ]
     },
     "execution_count": 15,
     "metadata": {},
     "output_type": "execute_result"
    },
    {
     "data": {
      "image/png": "[encoded data removed]",
      "text/plain": [
       "<Figure size 432x288 with 1 Axes>"
      ]
     },
     "metadata": {
      "needs_background": "light"
     },
     "output_type": "display_data"
    }
   ],
   "source": [
    "sns.countplot(df['City_Category'])"
   ]
  },
  {
   "cell_type": "code",
   "execution_count": 16,
   "metadata": {},
   "outputs": [
    {
     "data": {
      "text/plain": [
       "Index(['User_ID', 'Product_ID', 'Gender', 'Age', 'Occupation', 'City_Category',\n",
       "       'Stay_In_Current_City_Years', 'Marital_Status', 'Product_Category_1',\n",
       "       'Product_Category_2', 'Product_Category_3', 'Purchase'],\n",
       "      dtype='object')"
      ]
     },
     "execution_count": 16,
     "metadata": {},
     "output_type": "execute_result"
    }
   ],
   "source": [
    "df.columns"
   ]
  },
  {
   "cell_type": "code",
   "execution_count": 17,
   "metadata": {},
   "outputs": [
    {
     "data": {
      "text/plain": [
       "M    405380\n",
       "F    132197\n",
       "Name: Gender, dtype: int64"
      ]
     },
     "execution_count": 17,
     "metadata": {},
     "output_type": "execute_result"
    }
   ],
   "source": [
    "df['Gender'].value_counts()"
   ]
  },
  {
   "cell_type": "code",
   "execution_count": 18,
   "metadata": {},
   "outputs": [
    {
     "data": {
      "text/plain": [
       "4     70862\n",
       "0     68120\n",
       "7     57806\n",
       "1     45971\n",
       "17    39090\n",
       "20    32910\n",
       "12    30423\n",
       "14    26712\n",
       "2     25845\n",
       "16    24790\n",
       "6     19822\n",
       "3     17366\n",
       "10    12623\n",
       "5     11985\n",
       "15    11812\n",
       "11    11338\n",
       "19     8352\n",
       "13     7548\n",
       "18     6525\n",
       "9      6153\n",
       "8      1524\n",
       "Name: Occupation, dtype: int64"
      ]
     },
     "execution_count": 18,
     "metadata": {},
     "output_type": "execute_result"
    }
   ],
   "source": [
    "df['Occupation'].value_counts()"
   ]
  },
  {
   "cell_type": "code",
   "execution_count": 19,
   "metadata": {},
   "outputs": [
    {
     "data": {
      "text/plain": [
       "26-35    214690\n",
       "36-45    107499\n",
       "18-25     97634\n",
       "46-50     44526\n",
       "51-55     37618\n",
       "55+       20903\n",
       "0-17      14707\n",
       "Name: Age, dtype: int64"
      ]
     },
     "execution_count": 19,
     "metadata": {},
     "output_type": "execute_result"
    }
   ],
   "source": [
    "df['Age'].value_counts()"
   ]
  },
  {
   "cell_type": "code",
   "execution_count": 20,
   "metadata": {},
   "outputs": [
    {
     "data": {
      "text/plain": [
       "0          8370\n",
       "1         15200\n",
       "2          1422\n",
       "3          1057\n",
       "4          7969\n",
       "          ...  \n",
       "537572    11664\n",
       "537573    19196\n",
       "537574     8043\n",
       "537575     7172\n",
       "537576     6875\n",
       "Name: Purchase, Length: 537577, dtype: int64"
      ]
     },
     "execution_count": 20,
     "metadata": {},
     "output_type": "execute_result"
    }
   ],
   "source": [
    "df['Purchase']"
   ]
  },
  {
   "cell_type": "code",
   "execution_count": 21,
   "metadata": {},
   "outputs": [
    {
     "data": {
      "text/plain": [
       "Index(['User_ID', 'Product_ID', 'Gender', 'Age', 'Occupation', 'City_Category',\n",
       "       'Stay_In_Current_City_Years', 'Marital_Status', 'Product_Category_1',\n",
       "       'Product_Category_2', 'Product_Category_3', 'Purchase'],\n",
       "      dtype='object')"
      ]
     },
     "execution_count": 21,
     "metadata": {},
     "output_type": "execute_result"
    }
   ],
   "source": [
    "df.columns"
   ]
  },
  {
   "cell_type": "code",
   "execution_count": 22,
   "metadata": {},
   "outputs": [
    {
     "data": {
      "text/plain": [
       "array([0, 1])"
      ]
     },
     "execution_count": 22,
     "metadata": {},
     "output_type": "execute_result"
    }
   ],
   "source": [
    "df['Marital_Status'].unique()"
   ]
  },
  {
   "cell_type": "code",
   "execution_count": 23,
   "metadata": {},
   "outputs": [],
   "source": [
    "def count_plot(dataframe, column_name, title =None, hue = None):\n",
    "    '''\n",
    "    Function to plot seaborn count plot\n",
    "    Input: Dataframe name that has to be plotted, column_name that has to be plotted, title for the graph\n",
    "    Output: Plot the data as a count plot\n",
    "    '''\n",
    "    base_color = sns.color_palette()[0]\n",
    "    sns.countplot(data = dataframe, x = column_name, hue=hue)\n",
    "    plt.title(title)\n",
    "    pass"
   ]
  },
  {
   "cell_type": "code",
   "execution_count": 24,
   "metadata": {},
   "outputs": [
    {
     "data": {
      "image/png": "[encoded data removed]",
      "text/plain": [
       "<Figure size 432x288 with 1 Axes>"
      ]
     },
     "metadata": {
      "needs_background": "light"
     },
     "output_type": "display_data"
    }
   ],
   "source": [
    "count_plot(df,'Age','Gender')"
   ]
  },
  {
   "cell_type": "code",
   "execution_count": 33,
   "metadata": {},
   "outputs": [
    {
     "data": {
      "text/html": [
       "<div>\n",
       "<style scoped>\n",
       "    .dataframe tbody tr th:only-of-type {\n",
       "        vertical-align: middle;\n",
       "    }\n",
       "\n",
       "    .dataframe tbody tr th {\n",
       "        vertical-align: top;\n",
       "    }\n",
       "\n",
       "    .dataframe thead th {\n",
       "        text-align: right;\n",
       "    }\n",
       "</style>\n",
       "<table border=\"1\" class=\"dataframe\">\n",
       "  <thead>\n",
       "    <tr style=\"text-align: right;\">\n",
       "      <th></th>\n",
       "      <th>User_ID</th>\n",
       "      <th>Product_ID</th>\n",
       "      <th>Gender</th>\n",
       "      <th>Age</th>\n",
       "      <th>Occupation</th>\n",
       "      <th>City_Category</th>\n",
       "      <th>Stay_In_Current_City_Years</th>\n",
       "      <th>Marital_Status</th>\n",
       "      <th>Product_Category_1</th>\n",
       "      <th>Product_Category_2</th>\n",
       "      <th>Product_Category_3</th>\n",
       "      <th>Purchase</th>\n",
       "    </tr>\n",
       "  </thead>\n",
       "  <tbody>\n",
       "    <tr>\n",
       "      <th>0</th>\n",
       "      <td>1000001</td>\n",
       "      <td>P00069042</td>\n",
       "      <td>F</td>\n",
       "      <td>0-17</td>\n",
       "      <td>10</td>\n",
       "      <td>A</td>\n",
       "      <td>2</td>\n",
       "      <td>0</td>\n",
       "      <td>3</td>\n",
       "      <td>NaN</td>\n",
       "      <td>NaN</td>\n",
       "      <td>8370</td>\n",
       "    </tr>\n",
       "    <tr>\n",
       "      <th>1</th>\n",
       "      <td>1000001</td>\n",
       "      <td>P00248942</td>\n",
       "      <td>F</td>\n",
       "      <td>0-17</td>\n",
       "      <td>10</td>\n",
       "      <td>A</td>\n",
       "      <td>2</td>\n",
       "      <td>0</td>\n",
       "      <td>1</td>\n",
       "      <td>6.0</td>\n",
       "      <td>14.0</td>\n",
       "      <td>15200</td>\n",
       "    </tr>\n",
       "    <tr>\n",
       "      <th>2</th>\n",
       "      <td>1000001</td>\n",
       "      <td>P00087842</td>\n",
       "      <td>F</td>\n",
       "      <td>0-17</td>\n",
       "      <td>10</td>\n",
       "      <td>A</td>\n",
       "      <td>2</td>\n",
       "      <td>0</td>\n",
       "      <td>12</td>\n",
       "      <td>NaN</td>\n",
       "      <td>NaN</td>\n",
       "      <td>1422</td>\n",
       "    </tr>\n",
       "    <tr>\n",
       "      <th>3</th>\n",
       "      <td>1000001</td>\n",
       "      <td>P00085442</td>\n",
       "      <td>F</td>\n",
       "      <td>0-17</td>\n",
       "      <td>10</td>\n",
       "      <td>A</td>\n",
       "      <td>2</td>\n",
       "      <td>0</td>\n",
       "      <td>12</td>\n",
       "      <td>14.0</td>\n",
       "      <td>NaN</td>\n",
       "      <td>1057</td>\n",
       "    </tr>\n",
       "    <tr>\n",
       "      <th>4</th>\n",
       "      <td>1000002</td>\n",
       "      <td>P00285442</td>\n",
       "      <td>M</td>\n",
       "      <td>55+</td>\n",
       "      <td>16</td>\n",
       "      <td>C</td>\n",
       "      <td>4+</td>\n",
       "      <td>0</td>\n",
       "      <td>8</td>\n",
       "      <td>NaN</td>\n",
       "      <td>NaN</td>\n",
       "      <td>7969</td>\n",
       "    </tr>\n",
       "  </tbody>\n",
       "</table>\n",
       "</div>"
      ],
      "text/plain": [
       "   User_ID Product_ID Gender   Age  Occupation City_Category  \\\n",
       "0  1000001  P00069042      F  0-17          10             A   \n",
       "1  1000001  P00248942      F  0-17          10             A   \n",
       "2  1000001  P00087842      F  0-17          10             A   \n",
       "3  1000001  P00085442      F  0-17          10             A   \n",
       "4  1000002  P00285442      M   55+          16             C   \n",
       "\n",
       "  Stay_In_Current_City_Years  Marital_Status  Product_Category_1  \\\n",
       "0                          2               0                   3   \n",
       "1                          2               0                   1   \n",
       "2                          2               0                  12   \n",
       "3                          2               0                  12   \n",
       "4                         4+               0                   8   \n",
       "\n",
       "   Product_Category_2  Product_Category_3  Purchase  \n",
       "0                 NaN                 NaN      8370  \n",
       "1                 6.0                14.0     15200  \n",
       "2                 NaN                 NaN      1422  \n",
       "3                14.0                 NaN      1057  \n",
       "4                 NaN                 NaN      7969  "
      ]
     },
     "execution_count": 33,
     "metadata": {},
     "output_type": "execute_result"
    }
   ],
   "source": [
    "df.head()"
   ]
  },
  {
   "cell_type": "code",
   "execution_count": 25,
   "metadata": {},
   "outputs": [
    {
     "data": {
      "text/html": [
       "<div>\n",
       "<style scoped>\n",
       "    .dataframe tbody tr th:only-of-type {\n",
       "        vertical-align: middle;\n",
       "    }\n",
       "\n",
       "    .dataframe tbody tr th {\n",
       "        vertical-align: top;\n",
       "    }\n",
       "\n",
       "    .dataframe thead th {\n",
       "        text-align: right;\n",
       "    }\n",
       "</style>\n",
       "<table border=\"1\" class=\"dataframe\">\n",
       "  <thead>\n",
       "    <tr style=\"text-align: right;\">\n",
       "      <th></th>\n",
       "      <th></th>\n",
       "      <th>0</th>\n",
       "    </tr>\n",
       "    <tr>\n",
       "      <th>Gender</th>\n",
       "      <th>Marital_Status</th>\n",
       "      <th></th>\n",
       "    </tr>\n",
       "  </thead>\n",
       "  <tbody>\n",
       "    <tr>\n",
       "      <th rowspan=\"2\" valign=\"top\">F</th>\n",
       "      <th>0</th>\n",
       "      <td>76974</td>\n",
       "    </tr>\n",
       "    <tr>\n",
       "      <th>1</th>\n",
       "      <td>55223</td>\n",
       "    </tr>\n",
       "    <tr>\n",
       "      <th rowspan=\"2\" valign=\"top\">M</th>\n",
       "      <th>0</th>\n",
       "      <td>240843</td>\n",
       "    </tr>\n",
       "    <tr>\n",
       "      <th>1</th>\n",
       "      <td>164537</td>\n",
       "    </tr>\n",
       "  </tbody>\n",
       "</table>\n",
       "</div>"
      ],
      "text/plain": [
       "                            0\n",
       "Gender Marital_Status        \n",
       "F      0                76974\n",
       "       1                55223\n",
       "M      0               240843\n",
       "       1               164537"
      ]
     },
     "execution_count": 25,
     "metadata": {},
     "output_type": "execute_result"
    }
   ],
   "source": [
    "# How many maried and gender\n",
    "df.groupby(['Gender','Marital_Status']).size().to_frame()"
   ]
  },
  {
   "cell_type": "code",
   "execution_count": 26,
   "metadata": {},
   "outputs": [],
   "source": [
    "mr_gender = df.groupby(['Gender','Marital_Status']).size().to_frame()"
   ]
  },
  {
   "cell_type": "code",
   "execution_count": 27,
   "metadata": {},
   "outputs": [],
   "source": [
    "marital_df =mr_gender.reset_index()"
   ]
  },
  {
   "cell_type": "code",
   "execution_count": 28,
   "metadata": {},
   "outputs": [
    {
     "data": {
      "text/plain": [
       "Index(['Gender', 'Marital_Status', 0], dtype='object')"
      ]
     },
     "execution_count": 28,
     "metadata": {},
     "output_type": "execute_result"
    }
   ],
   "source": [
    "marital_df.columns"
   ]
  },
  {
   "cell_type": "code",
   "execution_count": 29,
   "metadata": {},
   "outputs": [],
   "source": [
    "marital_df.rename(columns={0:'Counts'},inplace=True)"
   ]
  },
  {
   "cell_type": "code",
   "execution_count": 30,
   "metadata": {},
   "outputs": [
    {
     "data": {
      "text/html": [
       "<div>\n",
       "<style scoped>\n",
       "    .dataframe tbody tr th:only-of-type {\n",
       "        vertical-align: middle;\n",
       "    }\n",
       "\n",
       "    .dataframe tbody tr th {\n",
       "        vertical-align: top;\n",
       "    }\n",
       "\n",
       "    .dataframe thead th {\n",
       "        text-align: right;\n",
       "    }\n",
       "</style>\n",
       "<table border=\"1\" class=\"dataframe\">\n",
       "  <thead>\n",
       "    <tr style=\"text-align: right;\">\n",
       "      <th></th>\n",
       "      <th>Gender</th>\n",
       "      <th>Marital_Status</th>\n",
       "      <th>Counts</th>\n",
       "    </tr>\n",
       "  </thead>\n",
       "  <tbody>\n",
       "    <tr>\n",
       "      <th>0</th>\n",
       "      <td>F</td>\n",
       "      <td>0</td>\n",
       "      <td>76974</td>\n",
       "    </tr>\n",
       "    <tr>\n",
       "      <th>1</th>\n",
       "      <td>F</td>\n",
       "      <td>1</td>\n",
       "      <td>55223</td>\n",
       "    </tr>\n",
       "    <tr>\n",
       "      <th>2</th>\n",
       "      <td>M</td>\n",
       "      <td>0</td>\n",
       "      <td>240843</td>\n",
       "    </tr>\n",
       "    <tr>\n",
       "      <th>3</th>\n",
       "      <td>M</td>\n",
       "      <td>1</td>\n",
       "      <td>164537</td>\n",
       "    </tr>\n",
       "  </tbody>\n",
       "</table>\n",
       "</div>"
      ],
      "text/plain": [
       "  Gender  Marital_Status  Counts\n",
       "0      F               0   76974\n",
       "1      F               1   55223\n",
       "2      M               0  240843\n",
       "3      M               1  164537"
      ]
     },
     "execution_count": 30,
     "metadata": {},
     "output_type": "execute_result"
    }
   ],
   "source": [
    "marital_df"
   ]
  },
  {
   "cell_type": "code",
   "execution_count": 31,
   "metadata": {},
   "outputs": [
    {
     "data": {
      "text/plain": [
       "(537577, 12)"
      ]
     },
     "execution_count": 31,
     "metadata": {},
     "output_type": "execute_result"
    }
   ],
   "source": [
    "df.shape"
   ]
  },
  {
   "cell_type": "code",
   "execution_count": 32,
   "metadata": {},
   "outputs": [
    {
     "data": {
      "text/plain": [
       "array(['0-17', '55+', '26-35', '46-50', '51-55', '36-45', '18-25'],\n",
       "      dtype=object)"
      ]
     },
     "execution_count": 32,
     "metadata": {},
     "output_type": "execute_result"
    }
   ],
   "source": [
    "df['Age'].unique()"
   ]
  },
  {
   "cell_type": "code",
   "execution_count": 50,
   "metadata": {},
   "outputs": [],
   "source": [
    "age_map = {\"Children\":\"0-17\",\"Young Adult\":\"18-25\",\"Young Adult(Prime)\":\"26-35\",\"Middle Adult\":\"36-45\",\"Late Adult\":\"46-50\",\"Early Old Age\":\"55+\"}"
   ]
  },
  {
   "cell_type": "code",
   "execution_count": 51,
   "metadata": {},
   "outputs": [
    {
     "data": {
      "text/html": [
       "<div>\n",
       "<style scoped>\n",
       "    .dataframe tbody tr th:only-of-type {\n",
       "        vertical-align: middle;\n",
       "    }\n",
       "\n",
       "    .dataframe tbody tr th {\n",
       "        vertical-align: top;\n",
       "    }\n",
       "\n",
       "    .dataframe thead th {\n",
       "        text-align: right;\n",
       "    }\n",
       "</style>\n",
       "<table border=\"1\" class=\"dataframe\">\n",
       "  <thead>\n",
       "    <tr style=\"text-align: right;\">\n",
       "      <th></th>\n",
       "      <th>User_ID</th>\n",
       "      <th>Product_ID</th>\n",
       "      <th>Gender</th>\n",
       "      <th>Age</th>\n",
       "      <th>Occupation</th>\n",
       "      <th>City_Category</th>\n",
       "      <th>Stay_In_Current_City_Years</th>\n",
       "      <th>Marital_Status</th>\n",
       "      <th>Product_Category_1</th>\n",
       "      <th>Product_Category_2</th>\n",
       "      <th>Product_Category_3</th>\n",
       "      <th>Purchase</th>\n",
       "    </tr>\n",
       "  </thead>\n",
       "  <tbody>\n",
       "    <tr>\n",
       "      <th>0</th>\n",
       "      <td>1000001</td>\n",
       "      <td>P00069042</td>\n",
       "      <td>F</td>\n",
       "      <td>0-17</td>\n",
       "      <td>10</td>\n",
       "      <td>A</td>\n",
       "      <td>2</td>\n",
       "      <td>0</td>\n",
       "      <td>3</td>\n",
       "      <td>NaN</td>\n",
       "      <td>NaN</td>\n",
       "      <td>8370</td>\n",
       "    </tr>\n",
       "    <tr>\n",
       "      <th>1</th>\n",
       "      <td>1000001</td>\n",
       "      <td>P00248942</td>\n",
       "      <td>F</td>\n",
       "      <td>0-17</td>\n",
       "      <td>10</td>\n",
       "      <td>A</td>\n",
       "      <td>2</td>\n",
       "      <td>0</td>\n",
       "      <td>1</td>\n",
       "      <td>6.0</td>\n",
       "      <td>14.0</td>\n",
       "      <td>15200</td>\n",
       "    </tr>\n",
       "    <tr>\n",
       "      <th>2</th>\n",
       "      <td>1000001</td>\n",
       "      <td>P00087842</td>\n",
       "      <td>F</td>\n",
       "      <td>0-17</td>\n",
       "      <td>10</td>\n",
       "      <td>A</td>\n",
       "      <td>2</td>\n",
       "      <td>0</td>\n",
       "      <td>12</td>\n",
       "      <td>NaN</td>\n",
       "      <td>NaN</td>\n",
       "      <td>1422</td>\n",
       "    </tr>\n",
       "    <tr>\n",
       "      <th>3</th>\n",
       "      <td>1000001</td>\n",
       "      <td>P00085442</td>\n",
       "      <td>F</td>\n",
       "      <td>0-17</td>\n",
       "      <td>10</td>\n",
       "      <td>A</td>\n",
       "      <td>2</td>\n",
       "      <td>0</td>\n",
       "      <td>12</td>\n",
       "      <td>14.0</td>\n",
       "      <td>NaN</td>\n",
       "      <td>1057</td>\n",
       "    </tr>\n",
       "    <tr>\n",
       "      <th>4</th>\n",
       "      <td>1000002</td>\n",
       "      <td>P00285442</td>\n",
       "      <td>M</td>\n",
       "      <td>55+</td>\n",
       "      <td>16</td>\n",
       "      <td>C</td>\n",
       "      <td>4+</td>\n",
       "      <td>0</td>\n",
       "      <td>8</td>\n",
       "      <td>NaN</td>\n",
       "      <td>NaN</td>\n",
       "      <td>7969</td>\n",
       "    </tr>\n",
       "  </tbody>\n",
       "</table>\n",
       "</div>"
      ],
      "text/plain": [
       "   User_ID Product_ID Gender   Age  Occupation City_Category  \\\n",
       "0  1000001  P00069042      F  0-17          10             A   \n",
       "1  1000001  P00248942      F  0-17          10             A   \n",
       "2  1000001  P00087842      F  0-17          10             A   \n",
       "3  1000001  P00085442      F  0-17          10             A   \n",
       "4  1000002  P00285442      M   55+          16             C   \n",
       "\n",
       "  Stay_In_Current_City_Years  Marital_Status  Product_Category_1  \\\n",
       "0                          2               0                   3   \n",
       "1                          2               0                   1   \n",
       "2                          2               0                  12   \n",
       "3                          2               0                  12   \n",
       "4                         4+               0                   8   \n",
       "\n",
       "   Product_Category_2  Product_Category_3  Purchase  \n",
       "0                 NaN                 NaN      8370  \n",
       "1                 6.0                14.0     15200  \n",
       "2                 NaN                 NaN      1422  \n",
       "3                14.0                 NaN      1057  \n",
       "4                 NaN                 NaN      7969  "
      ]
     },
     "execution_count": 51,
     "metadata": {},
     "output_type": "execute_result"
    }
   ],
   "source": [
    "df.head()"
   ]
  },
  {
   "cell_type": "code",
   "execution_count": 33,
   "metadata": {
    "collapsed": true,
    "jupyter": {
     "outputs_hidden": true
    }
   },
   "outputs": [
    {
     "data": {
      "text/plain": [
       "['P00069042',\n",
       " 'P00248942',\n",
       " 'P00087842',\n",
       " 'P00085442',\n",
       " 'P00285442',\n",
       " 'P00193542',\n",
       " 'P00184942',\n",
       " 'P00346142',\n",
       " 'P0097242',\n",
       " 'P00274942',\n",
       " 'P00251242',\n",
       " 'P00014542',\n",
       " 'P00031342',\n",
       " 'P00145042',\n",
       " 'P00231342',\n",
       " 'P00190242',\n",
       " 'P0096642',\n",
       " 'P00058442',\n",
       " 'P00036842',\n",
       " 'P00249542',\n",
       " 'P00220442',\n",
       " 'P00156442',\n",
       " 'P00213742',\n",
       " 'P00214442',\n",
       " 'P00303442',\n",
       " 'P00135742',\n",
       " 'P00039942',\n",
       " 'P00161442',\n",
       " 'P00078742',\n",
       " 'P00085942',\n",
       " 'P00118742',\n",
       " 'P00297942',\n",
       " 'P00266842',\n",
       " 'P00058342',\n",
       " 'P00032442',\n",
       " 'P00105942',\n",
       " 'P00182642',\n",
       " 'P00186942',\n",
       " 'P00155442',\n",
       " 'P00221342',\n",
       " 'P00087242',\n",
       " 'P00111142',\n",
       " 'P00259342',\n",
       " 'P0094542',\n",
       " 'P00148642',\n",
       " 'P00312142',\n",
       " 'P00113242',\n",
       " 'P00192642',\n",
       " 'P00110842',\n",
       " 'P00189642',\n",
       " 'P00304242',\n",
       " 'P00365242',\n",
       " 'P00129542',\n",
       " 'P00140742',\n",
       " 'P00182342',\n",
       " 'P00276642',\n",
       " 'P00334242',\n",
       " 'P00247542',\n",
       " 'P00338442',\n",
       " 'P00275142',\n",
       " 'P00333042',\n",
       " 'P00166242',\n",
       " 'P00161942',\n",
       " 'P00348242',\n",
       " 'P00042142',\n",
       " 'P00244242',\n",
       " 'P00217742',\n",
       " 'P00019342',\n",
       " 'P00100642',\n",
       " 'P00073842',\n",
       " 'P00366542',\n",
       " 'P00190742',\n",
       " 'P00151842',\n",
       " 'P00112642',\n",
       " 'P00118442',\n",
       " 'P00034442',\n",
       " 'P00222242',\n",
       " 'P00118342',\n",
       " 'P00324742',\n",
       " 'P00190042',\n",
       " 'P0094142',\n",
       " 'P00138542',\n",
       " 'P00158542',\n",
       " 'P00157542',\n",
       " 'P00044142',\n",
       " 'P00112542',\n",
       " 'P00339542',\n",
       " 'P00127842',\n",
       " 'P00125942',\n",
       " 'P00251342',\n",
       " 'P00249642',\n",
       " 'P00124842',\n",
       " 'P00250642',\n",
       " 'P00058142',\n",
       " 'P00117442',\n",
       " 'P00251642',\n",
       " 'P00244842',\n",
       " 'P00220242',\n",
       " 'P00351142',\n",
       " 'P00213242',\n",
       " 'P00195942',\n",
       " 'P00115642',\n",
       " 'P0098242',\n",
       " 'P00262242',\n",
       " 'P00258742',\n",
       " 'P00218242',\n",
       " 'P00021742',\n",
       " 'P00313042',\n",
       " 'P00133742',\n",
       " 'P00077042',\n",
       " 'P00280542',\n",
       " 'P00225842',\n",
       " 'P00278942',\n",
       " 'P00004742',\n",
       " 'P00198042',\n",
       " 'P00177442',\n",
       " 'P00000642',\n",
       " 'P00288942',\n",
       " 'P00270942',\n",
       " 'P00345842',\n",
       " 'P00032042',\n",
       " 'P00112342',\n",
       " 'P00031842',\n",
       " 'P00346642',\n",
       " 'P00205642',\n",
       " 'P00206442',\n",
       " 'P00046742',\n",
       " 'P00120042',\n",
       " 'P00043242',\n",
       " 'P00057242',\n",
       " 'P00022842',\n",
       " 'P00252042',\n",
       " 'P00042242',\n",
       " 'P00059542',\n",
       " 'P00021242',\n",
       " 'P00023042',\n",
       " 'P00144242',\n",
       " 'P00101342',\n",
       " 'P00289342',\n",
       " 'P00281742',\n",
       " 'P00266642',\n",
       " 'P00323742',\n",
       " 'P00116342',\n",
       " 'P00117142',\n",
       " 'P00084442',\n",
       " 'P00331542',\n",
       " 'P00178942',\n",
       " 'P00026042',\n",
       " 'P00233542',\n",
       " 'P00127242',\n",
       " 'P00349942',\n",
       " 'P00303342',\n",
       " 'P00051442',\n",
       " 'P00275642',\n",
       " 'P00278642',\n",
       " 'P00322042',\n",
       " 'P00216342',\n",
       " 'P00329342',\n",
       " 'P00332342',\n",
       " 'P00111742',\n",
       " 'P00293742',\n",
       " 'P00032842',\n",
       " 'P00216142',\n",
       " 'P00001642',\n",
       " 'P00351842',\n",
       " 'P00145442',\n",
       " 'P00344242',\n",
       " 'P00327242',\n",
       " 'P00241142',\n",
       " 'P00219242',\n",
       " 'P00057342',\n",
       " 'P00165742',\n",
       " 'P00154642',\n",
       " 'P00192942',\n",
       " 'P00247042',\n",
       " 'P00150542',\n",
       " 'P00347142',\n",
       " 'P00326742',\n",
       " 'P00330442',\n",
       " 'P00327842',\n",
       " 'P00218342',\n",
       " 'P00259042',\n",
       " 'P00102542',\n",
       " 'P00121142',\n",
       " 'P00228242',\n",
       " 'P00309542',\n",
       " 'P00106742',\n",
       " 'P00102642',\n",
       " 'P00127442',\n",
       " 'P00345642',\n",
       " 'P00357842',\n",
       " 'P00115342',\n",
       " 'P00174442',\n",
       " 'P00282642',\n",
       " 'P00037142',\n",
       " 'P00192042',\n",
       " 'P00197542',\n",
       " 'P00048742',\n",
       " 'P00110142',\n",
       " 'P00120842',\n",
       " 'P00267742',\n",
       " 'P00086442',\n",
       " 'P00331842',\n",
       " 'P00288642',\n",
       " 'P00318742',\n",
       " 'P00028442',\n",
       " 'P00208342',\n",
       " 'P00277442',\n",
       " 'P00085242',\n",
       " 'P00279442',\n",
       " 'P00235242',\n",
       " 'P00251542',\n",
       " 'P00003242',\n",
       " 'P00221542',\n",
       " 'P00142142',\n",
       " 'P00044442',\n",
       " 'P00147742',\n",
       " 'P00030942',\n",
       " 'P00288042',\n",
       " 'P00313142',\n",
       " 'P00195442',\n",
       " 'P00255842',\n",
       " 'P00112142',\n",
       " 'P00120342',\n",
       " 'P00110542',\n",
       " 'P00279942',\n",
       " 'P00303742',\n",
       " 'P00316742',\n",
       " 'P00115242',\n",
       " 'P00302842',\n",
       " 'P00066442',\n",
       " 'P00273442',\n",
       " 'P00210142',\n",
       " 'P00212542',\n",
       " 'P00321742',\n",
       " 'P00020042',\n",
       " 'P00051942',\n",
       " 'P00303542',\n",
       " 'P00228142',\n",
       " 'P00123142',\n",
       " 'P00079542',\n",
       " 'P00103142',\n",
       " 'P00305542',\n",
       " 'P00031042',\n",
       " 'P00260042',\n",
       " 'P00055642',\n",
       " 'P00312742',\n",
       " 'P00010742',\n",
       " 'P00223242',\n",
       " 'P00114942',\n",
       " 'P00183242',\n",
       " 'P00030842',\n",
       " 'P00220142',\n",
       " 'P00130442',\n",
       " 'P00323042',\n",
       " 'P00344742',\n",
       " 'P00182442',\n",
       " 'P00015342',\n",
       " 'P00103042',\n",
       " 'P00187842',\n",
       " 'P00162442',\n",
       " 'P00078542',\n",
       " 'P00324442',\n",
       " 'P00041642',\n",
       " 'P00050542',\n",
       " 'P00006442',\n",
       " 'P00350942',\n",
       " 'P00000142',\n",
       " 'P00034042',\n",
       " 'P00143142',\n",
       " 'P00317942',\n",
       " 'P00335542',\n",
       " 'P00361842',\n",
       " 'P00147942',\n",
       " 'P00028042',\n",
       " 'P00117542',\n",
       " 'P00130742',\n",
       " 'P00024142',\n",
       " 'P00209742',\n",
       " 'P00160042',\n",
       " 'P00042342',\n",
       " 'P00016542',\n",
       " 'P00016742',\n",
       " 'P00227642',\n",
       " 'P00146142',\n",
       " 'P00070542',\n",
       " 'P00129842',\n",
       " 'P00243942',\n",
       " 'P00246742',\n",
       " 'P00310142',\n",
       " 'P00244142',\n",
       " 'P00190142',\n",
       " 'P00109242',\n",
       " 'P00089342',\n",
       " 'P00288542',\n",
       " 'P00212242',\n",
       " 'P00319342',\n",
       " 'P00302942',\n",
       " 'P00145942',\n",
       " 'P00026342',\n",
       " 'P00148842',\n",
       " 'P00299842',\n",
       " 'P00313342',\n",
       " 'P00102442',\n",
       " 'P00237542',\n",
       " 'P0099342',\n",
       " 'P00171542',\n",
       " 'P00350342',\n",
       " 'P00110742',\n",
       " 'P00117642',\n",
       " 'P00114142',\n",
       " 'P00119142',\n",
       " 'P00280742',\n",
       " 'P00271142',\n",
       " 'P00003942',\n",
       " 'P00151742',\n",
       " 'P00050642',\n",
       " 'P00114742',\n",
       " 'P00113942',\n",
       " 'P00120942',\n",
       " 'P00083842',\n",
       " 'P00317842',\n",
       " 'P00030642',\n",
       " 'P00273642',\n",
       " 'P00002542',\n",
       " 'P00331642',\n",
       " 'P00331242',\n",
       " 'P0096442',\n",
       " 'P00050242',\n",
       " 'P00131942',\n",
       " 'P00132042',\n",
       " 'P00013742',\n",
       " 'P00119342',\n",
       " 'P00182142',\n",
       " 'P00188942',\n",
       " 'P00203142',\n",
       " 'P00320442',\n",
       " 'P00121642',\n",
       " 'P00289542',\n",
       " 'P00329742',\n",
       " 'P00326642',\n",
       " 'P00336142',\n",
       " 'P00111442',\n",
       " 'P00234742',\n",
       " 'P00090842',\n",
       " 'P00214542',\n",
       " 'P00110942',\n",
       " 'P00289942',\n",
       " 'P00104842',\n",
       " 'P00113142',\n",
       " 'P00177942',\n",
       " 'P00265242',\n",
       " 'P00118142',\n",
       " 'P00003642',\n",
       " 'P00178342',\n",
       " 'P00289742',\n",
       " 'P00085042',\n",
       " 'P00041542',\n",
       " 'P00249142',\n",
       " 'P00284042',\n",
       " 'P00165442',\n",
       " 'P00115942',\n",
       " 'P00074442',\n",
       " 'P00047242',\n",
       " 'P00199042',\n",
       " 'P00192542',\n",
       " 'P00350042',\n",
       " 'P00248442',\n",
       " 'P00172842',\n",
       " 'P00198142',\n",
       " 'P00282142',\n",
       " 'P00166942',\n",
       " 'P00187742',\n",
       " 'P00003442',\n",
       " 'P00060242',\n",
       " 'P00137642',\n",
       " 'P00126142',\n",
       " 'P00219842',\n",
       " 'P00046142',\n",
       " 'P00328142',\n",
       " 'P00255542',\n",
       " 'P00250842',\n",
       " 'P00260142',\n",
       " 'P0097142',\n",
       " 'P00209842',\n",
       " 'P00212942',\n",
       " 'P00283942',\n",
       " 'P00303242',\n",
       " 'P00170442',\n",
       " 'P00045842',\n",
       " 'P00040442',\n",
       " 'P00195842',\n",
       " 'P00293242',\n",
       " 'P00064042',\n",
       " 'P00015542',\n",
       " 'P00105142',\n",
       " 'P00183442',\n",
       " 'P00199442',\n",
       " 'P00054542',\n",
       " 'P00034742',\n",
       " 'P00163142',\n",
       " 'P00027142',\n",
       " 'P00053942',\n",
       " 'P00173342',\n",
       " 'P00233342',\n",
       " 'P00010842',\n",
       " 'P00120242',\n",
       " 'P00223942',\n",
       " 'P00362342',\n",
       " 'P00027542',\n",
       " 'P00234842',\n",
       " 'P00029242',\n",
       " 'P0097842',\n",
       " 'P00160942',\n",
       " 'P00136542',\n",
       " 'P00127942',\n",
       " 'P00248542',\n",
       " 'P00145842',\n",
       " 'P00214342',\n",
       " 'P00161542',\n",
       " 'P00001942',\n",
       " 'P00328042',\n",
       " 'P00370242',\n",
       " 'P00340642',\n",
       " 'P00358242',\n",
       " 'P0096542',\n",
       " 'P0096942',\n",
       " 'P00074142',\n",
       " 'P00270042',\n",
       " 'P00223842',\n",
       " 'P00014842',\n",
       " 'P00274342',\n",
       " 'P00208742',\n",
       " 'P00304442',\n",
       " 'P00014042',\n",
       " 'P00133442',\n",
       " 'P00159842',\n",
       " 'P00019942',\n",
       " 'P00117042',\n",
       " 'P00141942',\n",
       " 'P00117942',\n",
       " 'P00001742',\n",
       " 'P00315442',\n",
       " 'P00297642',\n",
       " 'P00088542',\n",
       " 'P00089042',\n",
       " 'P00175742',\n",
       " 'P00035542',\n",
       " 'P00057942',\n",
       " 'P00059442',\n",
       " 'P00278042',\n",
       " 'P00154042',\n",
       " 'P00337942',\n",
       " 'P00229342',\n",
       " 'P00274242',\n",
       " 'P00084642',\n",
       " 'P00071242',\n",
       " 'P00050442',\n",
       " 'P0097342',\n",
       " 'P00269542',\n",
       " 'P00045542',\n",
       " 'P00139742',\n",
       " 'P00332242',\n",
       " 'P00205442',\n",
       " 'P00085542',\n",
       " 'P00183142',\n",
       " 'P00298242',\n",
       " 'P00300942',\n",
       " 'P00013942',\n",
       " 'P00087042',\n",
       " 'P00087342',\n",
       " 'P00195642',\n",
       " 'P00035842',\n",
       " 'P00147342',\n",
       " 'P00176842',\n",
       " 'P00275842',\n",
       " 'P00351342',\n",
       " 'P00184142',\n",
       " 'P00317342',\n",
       " 'P00217242',\n",
       " 'P00335442',\n",
       " 'P0098342',\n",
       " 'P00079742',\n",
       " 'P00143642',\n",
       " 'P00232342',\n",
       " 'P00179042',\n",
       " 'P00180942',\n",
       " 'P00265742',\n",
       " 'P00194542',\n",
       " 'P00127642',\n",
       " 'P00355142',\n",
       " 'P00144642',\n",
       " 'P00201342',\n",
       " 'P00251942',\n",
       " 'P00009342',\n",
       " 'P00191442',\n",
       " 'P00330642',\n",
       " 'P00238542',\n",
       " 'P0094942',\n",
       " 'P00068042',\n",
       " 'P00005042',\n",
       " 'P00102042',\n",
       " 'P00059742',\n",
       " 'P00248142',\n",
       " 'P00279342',\n",
       " 'P00267542',\n",
       " 'P00163342',\n",
       " 'P00116842',\n",
       " 'P00348742',\n",
       " 'P00061142',\n",
       " 'P00015942',\n",
       " 'P00346542',\n",
       " 'P00188742',\n",
       " 'P00346942',\n",
       " 'P00007042',\n",
       " 'P00240242',\n",
       " 'P00291042',\n",
       " 'P00244642',\n",
       " 'P00090542',\n",
       " 'P00274142',\n",
       " 'P00270542',\n",
       " 'P00057442',\n",
       " 'P00078142',\n",
       " 'P00245642',\n",
       " 'P00037542',\n",
       " 'P00049842',\n",
       " 'P00022942',\n",
       " 'P00350442',\n",
       " 'P00119542',\n",
       " 'P00025442',\n",
       " 'P00080342',\n",
       " 'P00338542',\n",
       " 'P00246142',\n",
       " 'P00317642',\n",
       " 'P00170642',\n",
       " 'P00115442',\n",
       " 'P00212742',\n",
       " 'P00150742',\n",
       " 'P00109342',\n",
       " 'P00162642',\n",
       " 'P00017042',\n",
       " 'P00100842',\n",
       " 'P00329442',\n",
       " 'P00303842',\n",
       " 'P00250242',\n",
       " 'P00012542',\n",
       " 'P00152442',\n",
       " 'P00248342',\n",
       " 'P00218642',\n",
       " 'P00241542',\n",
       " 'P00346442',\n",
       " 'P00295942',\n",
       " 'P00270142',\n",
       " 'P0099042',\n",
       " 'P00367142',\n",
       " 'P00118842',\n",
       " 'P00034842',\n",
       " 'P00001142',\n",
       " 'P00008842',\n",
       " 'P00222142',\n",
       " 'P00189842',\n",
       " 'P00198742',\n",
       " 'P00004242',\n",
       " 'P00173942',\n",
       " 'P00124642',\n",
       " 'P00081142',\n",
       " 'P00329542',\n",
       " 'P00020142',\n",
       " 'P00121342',\n",
       " 'P00159542',\n",
       " 'P00115142',\n",
       " 'P00227542',\n",
       " 'P00241642',\n",
       " 'P00226742',\n",
       " 'P00062842',\n",
       " 'P00028842',\n",
       " 'P00284642',\n",
       " 'P00250342',\n",
       " 'P00214142',\n",
       " 'P00188542',\n",
       " 'P00088242',\n",
       " 'P00121042',\n",
       " 'P00116742',\n",
       " 'P00289642',\n",
       " 'P00227742',\n",
       " 'P00127542',\n",
       " 'P00323942',\n",
       " 'P00101142',\n",
       " 'P00129642',\n",
       " 'P00178642',\n",
       " 'P00288442',\n",
       " 'P00274042',\n",
       " 'P00091842',\n",
       " 'P00016042',\n",
       " 'P00214242',\n",
       " 'P00008542',\n",
       " 'P00352142',\n",
       " 'P00150942',\n",
       " 'P00317442',\n",
       " 'P00063342',\n",
       " 'P00114542',\n",
       " 'P00156742',\n",
       " 'P00119242',\n",
       " 'P00193042',\n",
       " 'P00036542',\n",
       " 'P00181842',\n",
       " 'P00304742',\n",
       " 'P00163842',\n",
       " 'P00028242',\n",
       " 'P00028542',\n",
       " 'P00184442',\n",
       " 'P00137542',\n",
       " 'P00150342',\n",
       " 'P00369742',\n",
       " 'P00277942',\n",
       " 'P00207042',\n",
       " 'P00294542',\n",
       " 'P00033642',\n",
       " 'P00086042',\n",
       " 'P00057742',\n",
       " 'P00101942',\n",
       " 'P00113342',\n",
       " 'P00052642',\n",
       " 'P00021642',\n",
       " 'P00007342',\n",
       " 'P00154742',\n",
       " 'P00016342',\n",
       " 'P00141842',\n",
       " 'P00197442',\n",
       " 'P00048642',\n",
       " 'P00358742',\n",
       " 'P00370342',\n",
       " 'P00031442',\n",
       " 'P00128242',\n",
       " 'P00211142',\n",
       " 'P00152742',\n",
       " 'P00211042',\n",
       " 'P00148342',\n",
       " 'P00134342',\n",
       " 'P00159942',\n",
       " 'P00031642',\n",
       " 'P00307342',\n",
       " 'P00022542',\n",
       " 'P00323842',\n",
       " 'P00252442',\n",
       " 'P00304842',\n",
       " 'P00240142',\n",
       " 'P00140042',\n",
       " 'P00289042',\n",
       " 'P00141442',\n",
       " 'P00345742',\n",
       " 'P00065342',\n",
       " 'P00298142',\n",
       " 'P00111542',\n",
       " 'P00347242',\n",
       " 'P00277642',\n",
       " 'P00024042',\n",
       " 'P00064942',\n",
       " 'P00112442',\n",
       " 'P00312942',\n",
       " 'P00125742',\n",
       " 'P00285742',\n",
       " 'P00004842',\n",
       " 'P00010242',\n",
       " 'P00014742',\n",
       " 'P00079442',\n",
       " 'P00208942',\n",
       " 'P00322342',\n",
       " 'P00309142',\n",
       " 'P00305142',\n",
       " 'P00128042',\n",
       " 'P00229742',\n",
       " 'P00194642',\n",
       " 'P00149542',\n",
       " 'P00138242',\n",
       " 'P00035242',\n",
       " 'P00135842',\n",
       " 'P00035742',\n",
       " 'P00019142',\n",
       " 'P00188442',\n",
       " 'P00346342',\n",
       " 'P00111042',\n",
       " 'P00238442',\n",
       " 'P00270242',\n",
       " 'P00197342',\n",
       " 'P00318142',\n",
       " 'P00049642',\n",
       " 'P00303642',\n",
       " 'P00071442',\n",
       " 'P00226442',\n",
       " 'P0098542',\n",
       " 'P00231142',\n",
       " 'P00031542',\n",
       " 'P00053842',\n",
       " 'P00176042',\n",
       " 'P00116142',\n",
       " 'P00089442',\n",
       " 'P00128942',\n",
       " 'P00139942',\n",
       " 'P00194442',\n",
       " 'P00178442',\n",
       " 'P00119742',\n",
       " 'P00279642',\n",
       " 'P00048142',\n",
       " 'P00042942',\n",
       " 'P00241242',\n",
       " 'P00250542',\n",
       " 'P00100442',\n",
       " 'P00279142',\n",
       " 'P00256542',\n",
       " 'P00272042',\n",
       " 'P00057642',\n",
       " 'P00348542',\n",
       " 'P00310242',\n",
       " 'P00350542',\n",
       " 'P00318942',\n",
       " 'P00150142',\n",
       " 'P00062742',\n",
       " 'P00367042',\n",
       " 'P00070042',\n",
       " 'P00211942',\n",
       " 'P00252842',\n",
       " 'P00341342',\n",
       " 'P00117342',\n",
       " 'P00044342',\n",
       " 'P00090942',\n",
       " 'P00302742',\n",
       " 'P00286842',\n",
       " 'P00102342',\n",
       " 'P00104542',\n",
       " 'P00360042',\n",
       " 'P00307642',\n",
       " 'P00052842',\n",
       " 'P00057542',\n",
       " 'P00282842',\n",
       " 'P00281542',\n",
       " 'P00367542',\n",
       " 'P00253042',\n",
       " 'P00221942',\n",
       " 'P00288342',\n",
       " 'P00115542',\n",
       " 'P00321942',\n",
       " 'P00100142',\n",
       " 'P00313542',\n",
       " 'P00120142',\n",
       " 'P00129742',\n",
       " 'P00182742',\n",
       " 'P00020342',\n",
       " 'P00158142',\n",
       " 'P00002142',\n",
       " 'P00247742',\n",
       " 'P00092642',\n",
       " 'P00051142',\n",
       " 'P00005642',\n",
       " 'P00102242',\n",
       " 'P00283242',\n",
       " 'P00017742',\n",
       " 'P00247642',\n",
       " 'P0009942',\n",
       " 'P00155742',\n",
       " 'P00023642',\n",
       " 'P00307542',\n",
       " 'P00125342',\n",
       " 'P00367242',\n",
       " 'P0095142',\n",
       " 'P00023142',\n",
       " 'P00127342',\n",
       " 'P00153742',\n",
       " 'P00117742',\n",
       " 'P00143342',\n",
       " 'P00277542',\n",
       " 'P00324942',\n",
       " 'P00092242',\n",
       " 'P00355942',\n",
       " 'P00013342',\n",
       " 'P00089542',\n",
       " 'P00107642',\n",
       " 'P00267142',\n",
       " 'P00021842',\n",
       " 'P00182242',\n",
       " 'P00050342',\n",
       " 'P0099742',\n",
       " 'P00212342',\n",
       " 'P00153642',\n",
       " 'P00244042',\n",
       " 'P00049442',\n",
       " 'P00068942',\n",
       " 'P00029842',\n",
       " 'P00089242',\n",
       " 'P00322742',\n",
       " 'P00168742',\n",
       " 'P00136442',\n",
       " 'P00256642',\n",
       " 'P00158242',\n",
       " 'P00357942',\n",
       " 'P00042842',\n",
       " 'P00330042',\n",
       " 'P00038342',\n",
       " 'P00287542',\n",
       " 'P00196142',\n",
       " 'P00187442',\n",
       " 'P00303142',\n",
       " 'P00277842',\n",
       " 'P0095342',\n",
       " 'P00048442',\n",
       " 'P00128342',\n",
       " 'P00021342',\n",
       " 'P00226142',\n",
       " 'P00164342',\n",
       " 'P00041142',\n",
       " 'P00222942',\n",
       " 'P00041042',\n",
       " 'P00354342',\n",
       " 'P00223642',\n",
       " 'P00179642',\n",
       " 'P00093642',\n",
       " 'P00272242',\n",
       " 'P00075742',\n",
       " 'P00224142',\n",
       " 'P00027642',\n",
       " 'P00265542',\n",
       " 'P00041742',\n",
       " 'P00053542',\n",
       " 'P00227842',\n",
       " 'P00137242',\n",
       " 'P00207242',\n",
       " 'P00328342',\n",
       " 'P00055142',\n",
       " 'P00297042',\n",
       " 'P00289242',\n",
       " 'P00230842',\n",
       " 'P00193242',\n",
       " 'P00326842',\n",
       " 'P00050742',\n",
       " 'P00266542',\n",
       " 'P00352842',\n",
       " 'P00242742',\n",
       " 'P00015642',\n",
       " 'P00114042',\n",
       " 'P00357242',\n",
       " 'P00118542',\n",
       " 'P00313442',\n",
       " 'P00285842',\n",
       " 'P00161142',\n",
       " 'P00200642',\n",
       " 'P00343042',\n",
       " 'P00326242',\n",
       " 'P00196742',\n",
       " 'P00129342',\n",
       " 'P00025542',\n",
       " 'P00128742',\n",
       " 'P00087442',\n",
       " 'P00335242',\n",
       " 'P00161242',\n",
       " 'P00033342',\n",
       " 'P00101242',\n",
       " 'P00205242',\n",
       " 'P00302042',\n",
       " 'P00362442',\n",
       " 'P00206642',\n",
       " 'P00045342',\n",
       " 'P00214742',\n",
       " 'P00344842',\n",
       " 'P00119642',\n",
       " 'P00362542',\n",
       " 'P00246942',\n",
       " 'P00191742',\n",
       " 'P00303042',\n",
       " 'P00281942',\n",
       " 'P00295242',\n",
       " 'P00295842',\n",
       " 'P00178042',\n",
       " 'P00114342',\n",
       " 'P00249042',\n",
       " 'P00136342',\n",
       " 'P00331942',\n",
       " 'P00218842',\n",
       " 'P00102942',\n",
       " 'P00058042',\n",
       " 'P00022642',\n",
       " 'P00268442',\n",
       " 'P00114642',\n",
       " 'P00255742',\n",
       " 'P00106942',\n",
       " 'P00111842',\n",
       " 'P00304142',\n",
       " 'P00249842',\n",
       " 'P00323442',\n",
       " 'P00129442',\n",
       " 'P00021042',\n",
       " 'P00363742',\n",
       " 'P00225042',\n",
       " 'P00002642',\n",
       " 'P00234542',\n",
       " 'P00173842',\n",
       " 'P00205942',\n",
       " 'P00327342',\n",
       " 'P00089142',\n",
       " 'P00024742',\n",
       " 'P00053642',\n",
       " 'P00101842',\n",
       " 'P00011342',\n",
       " 'P00002942',\n",
       " 'P00258442',\n",
       " 'P00246342',\n",
       " 'P00331342',\n",
       " 'P00360742',\n",
       " 'P00120442',\n",
       " 'P00196042',\n",
       " 'P00276142',\n",
       " 'P00176942',\n",
       " 'P00216542',\n",
       " 'P00295542',\n",
       " 'P00091142',\n",
       " 'P00026542',\n",
       " 'P00242042',\n",
       " 'P00184342',\n",
       " 'P00049542',\n",
       " 'P00155642',\n",
       " 'P00347342',\n",
       " 'P00007142',\n",
       " 'P00221442',\n",
       " 'P00167942',\n",
       " 'P00201442',\n",
       " 'P00014642',\n",
       " 'P00285642',\n",
       " 'P00246042',\n",
       " 'P00204342',\n",
       " 'P00025042',\n",
       " 'P00066542',\n",
       " 'P00177342',\n",
       " 'P00322942',\n",
       " 'P00266042',\n",
       " 'P00177642',\n",
       " 'P00281642',\n",
       " 'P00282442',\n",
       " 'P00042742',\n",
       " 'P00001242',\n",
       " 'P00339942',\n",
       " 'P00029542',\n",
       " 'P00244342',\n",
       " 'P00280642',\n",
       " 'P00244442',\n",
       " 'P00105442',\n",
       " 'P00194142',\n",
       " 'P00313942',\n",
       " 'P00084342',\n",
       " 'P00198642',\n",
       " 'P00115842',\n",
       " 'P00128142',\n",
       " 'P00021142',\n",
       " 'P00043542',\n",
       " 'P00102842',\n",
       " 'P00041842',\n",
       " 'P00242642',\n",
       " 'P00231942',\n",
       " 'P00174142',\n",
       " 'P00260442',\n",
       " 'P00016842',\n",
       " 'P00255942',\n",
       " 'P00268342',\n",
       " 'P00223542',\n",
       " 'P00122442',\n",
       " 'P00298942',\n",
       " 'P00042542',\n",
       " 'P00078842',\n",
       " 'P00084842',\n",
       " 'P00216742',\n",
       " 'P00006142',\n",
       " 'P00233442',\n",
       " 'P00024342',\n",
       " 'P00024242',\n",
       " 'P00093342',\n",
       " 'P00333642',\n",
       " 'P00364442',\n",
       " 'P00346042',\n",
       " 'P00282242',\n",
       " 'P00180342',\n",
       " 'P00113642',\n",
       " 'P00001042',\n",
       " 'P00083942',\n",
       " 'P00117842',\n",
       " 'P00148042',\n",
       " 'P00053042',\n",
       " 'P00004642',\n",
       " 'P00158042',\n",
       " 'P00259142',\n",
       " 'P00282042',\n",
       " 'P00047942',\n",
       " 'P00131542',\n",
       " 'P00264242',\n",
       " 'P00343442',\n",
       " 'P00254642',\n",
       " 'P00320842',\n",
       " 'P00074242',\n",
       " 'P00018142',\n",
       " 'P00229942',\n",
       " 'P00355642',\n",
       " 'P00142942',\n",
       " 'P00035342',\n",
       " ...]"
      ]
     },
     "execution_count": 33,
     "metadata": {},
     "output_type": "execute_result"
    }
   ],
   "source": [
    "# Check for unique Products\n",
    "df['Product_ID'].unique().tolist()"
   ]
  },
  {
   "cell_type": "code",
   "execution_count": 34,
   "metadata": {},
   "outputs": [],
   "source": [
    "# Convert to Dict\n",
    "def make_dict(col):\n",
    "    d = {v:k for k,v in enumerate(col.unique())}\n",
    "    return d"
   ]
  },
  {
   "cell_type": "code",
   "execution_count": 35,
   "metadata": {},
   "outputs": [],
   "source": [
    "age_dict = make_dict(df['Age'])"
   ]
  },
  {
   "cell_type": "code",
   "execution_count": 36,
   "metadata": {},
   "outputs": [
    {
     "data": {
      "text/plain": [
       "{'0-17': 0,\n",
       " '55+': 1,\n",
       " '26-35': 2,\n",
       " '46-50': 3,\n",
       " '51-55': 4,\n",
       " '36-45': 5,\n",
       " '18-25': 6}"
      ]
     },
     "execution_count": 36,
     "metadata": {},
     "output_type": "execute_result"
    }
   ],
   "source": [
    "age_dict"
   ]
  },
  {
   "cell_type": "code",
   "execution_count": 72,
   "metadata": {},
   "outputs": [],
   "source": [
    "age_dict = {'0-17': 1,\n",
    " '55+': 7,\n",
    " '26-35': 3,\n",
    " '46-50': 5,\n",
    " '51-55': 6,\n",
    " '36-45': 4,\n",
    " '18-25': 2}"
   ]
  },
  {
   "cell_type": "code",
   "execution_count": 73,
   "metadata": {},
   "outputs": [
    {
     "data": {
      "text/plain": [
       "{'0-17': 1,\n",
       " '55+': 7,\n",
       " '26-35': 3,\n",
       " '46-50': 5,\n",
       " '51-55': 6,\n",
       " '36-45': 4,\n",
       " '18-25': 2}"
      ]
     },
     "execution_count": 73,
     "metadata": {},
     "output_type": "execute_result"
    }
   ],
   "source": [
    "age_dict"
   ]
  },
  {
   "cell_type": "code",
   "execution_count": 39,
   "metadata": {},
   "outputs": [],
   "source": [
    "city_dict = make_dict(df['City_Category'])"
   ]
  },
  {
   "cell_type": "code",
   "execution_count": 67,
   "metadata": {},
   "outputs": [],
   "source": [
    "city_dict = {'A': 0, 'C': 2, 'B': 1}"
   ]
  },
  {
   "cell_type": "code",
   "execution_count": 41,
   "metadata": {},
   "outputs": [
    {
     "data": {
      "text/plain": [
       "array(['2', '4+', '3', '1', '0'], dtype=object)"
      ]
     },
     "execution_count": 41,
     "metadata": {},
     "output_type": "execute_result"
    }
   ],
   "source": [
    "df['Stay_In_Current_City_Years'].unique()"
   ]
  },
  {
   "cell_type": "code",
   "execution_count": 74,
   "metadata": {},
   "outputs": [],
   "source": [
    "df['Stay_In_Current_City_Years'].replace('4+',4,inplace=True)"
   ]
  },
  {
   "cell_type": "code",
   "execution_count": 75,
   "metadata": {},
   "outputs": [
    {
     "data": {
      "text/plain": [
       "array([10, 16, 15,  7, 20,  9,  1, 12, 17,  0,  3,  4, 11,  8, 19,  2, 18,\n",
       "        5, 14, 13,  6])"
      ]
     },
     "execution_count": 75,
     "metadata": {},
     "output_type": "execute_result"
    }
   ],
   "source": [
    "# Occupation\n",
    "df['Occupation'].unique()"
   ]
  },
  {
   "cell_type": "code",
   "execution_count": 76,
   "metadata": {},
   "outputs": [
    {
     "data": {
      "text/plain": [
       "array([0, 1])"
      ]
     },
     "execution_count": 76,
     "metadata": {},
     "output_type": "execute_result"
    }
   ],
   "source": [
    "# Marital Status\n",
    "df['Marital_Status'].unique()"
   ]
  },
  {
   "cell_type": "code",
   "execution_count": 77,
   "metadata": {},
   "outputs": [
    {
     "data": {
      "text/plain": [
       "0"
      ]
     },
     "execution_count": 77,
     "metadata": {},
     "output_type": "execute_result"
    }
   ],
   "source": [
    "df['Product_Category_1'].isnull().sum()"
   ]
  },
  {
   "cell_type": "code",
   "execution_count": 78,
   "metadata": {},
   "outputs": [
    {
     "data": {
      "text/plain": [
       "166986"
      ]
     },
     "execution_count": 78,
     "metadata": {},
     "output_type": "execute_result"
    }
   ],
   "source": [
    "df['Product_Category_2'].isnull().sum()"
   ]
  },
  {
   "cell_type": "code",
   "execution_count": 79,
   "metadata": {},
   "outputs": [
    {
     "data": {
      "text/plain": [
       "array([nan,  6., 14.,  2.,  8., 15., 16., 11.,  5.,  3.,  4., 12.,  9.,\n",
       "       10., 17., 13.,  7., 18.])"
      ]
     },
     "execution_count": 79,
     "metadata": {},
     "output_type": "execute_result"
    }
   ],
   "source": [
    "df['Product_Category_2'].unique()"
   ]
  },
  {
   "cell_type": "code",
   "execution_count": 80,
   "metadata": {},
   "outputs": [],
   "source": [
    "# Fill Na\n",
    "df['Product_Category_2'].fillna(df['Product_Category_2'].value_counts().idxmax(),inplace=True)"
   ]
  },
  {
   "cell_type": "code",
   "execution_count": 81,
   "metadata": {},
   "outputs": [],
   "source": [
    "# Fill Na\n",
    "df['Product_Category_3'].fillna(df['Product_Category_3'].value_counts().idxmax(),inplace=True)"
   ]
  },
  {
   "cell_type": "code",
   "execution_count": 82,
   "metadata": {},
   "outputs": [
    {
     "data": {
      "text/plain": [
       "User_ID                       0\n",
       "Product_ID                    0\n",
       "Gender                        0\n",
       "Age                           0\n",
       "Occupation                    0\n",
       "City_Category                 0\n",
       "Stay_In_Current_City_Years    0\n",
       "Marital_Status                0\n",
       "Product_Category_1            0\n",
       "Product_Category_2            0\n",
       "Product_Category_3            0\n",
       "Purchase                      0\n",
       "dtype: int64"
      ]
     },
     "execution_count": 82,
     "metadata": {},
     "output_type": "execute_result"
    }
   ],
   "source": [
    "# Check For Missing Values\n",
    "df.isnull().sum()"
   ]
  },
  {
   "cell_type": "code",
   "execution_count": 83,
   "metadata": {},
   "outputs": [
    {
     "data": {
      "text/plain": [
       "User_ID                         int64\n",
       "Product_ID                     object\n",
       "Gender                         object\n",
       "Age                            object\n",
       "Occupation                      int64\n",
       "City_Category                  object\n",
       "Stay_In_Current_City_Years     object\n",
       "Marital_Status                  int64\n",
       "Product_Category_1              int64\n",
       "Product_Category_2            float64\n",
       "Product_Category_3            float64\n",
       "Purchase                        int64\n",
       "dtype: object"
      ]
     },
     "execution_count": 83,
     "metadata": {},
     "output_type": "execute_result"
    }
   ],
   "source": [
    "# Encoding Dataset\n",
    "df.dtypes"
   ]
  },
  {
   "cell_type": "code",
   "execution_count": 84,
   "metadata": {},
   "outputs": [],
   "source": [
    "df_clean = df"
   ]
  },
  {
   "cell_type": "code",
   "execution_count": 85,
   "metadata": {},
   "outputs": [],
   "source": [
    "df_clean.to_csv(\"Black_Friday_No_Missing_Value.csv\")"
   ]
  },
  {
   "cell_type": "code",
   "execution_count": 86,
   "metadata": {},
   "outputs": [],
   "source": [
    "# Gender\n",
    "df['Gender'] = df['Gender'].map({\"F\":0,\"M\":1})"
   ]
  },
  {
   "cell_type": "code",
   "execution_count": 87,
   "metadata": {},
   "outputs": [
    {
     "data": {
      "text/html": [
       "<div>\n",
       "<style scoped>\n",
       "    .dataframe tbody tr th:only-of-type {\n",
       "        vertical-align: middle;\n",
       "    }\n",
       "\n",
       "    .dataframe tbody tr th {\n",
       "        vertical-align: top;\n",
       "    }\n",
       "\n",
       "    .dataframe thead th {\n",
       "        text-align: right;\n",
       "    }\n",
       "</style>\n",
       "<table border=\"1\" class=\"dataframe\">\n",
       "  <thead>\n",
       "    <tr style=\"text-align: right;\">\n",
       "      <th></th>\n",
       "      <th>User_ID</th>\n",
       "      <th>Product_ID</th>\n",
       "      <th>Gender</th>\n",
       "      <th>Age</th>\n",
       "      <th>Occupation</th>\n",
       "      <th>City_Category</th>\n",
       "      <th>Stay_In_Current_City_Years</th>\n",
       "      <th>Marital_Status</th>\n",
       "      <th>Product_Category_1</th>\n",
       "      <th>Product_Category_2</th>\n",
       "      <th>Product_Category_3</th>\n",
       "      <th>Purchase</th>\n",
       "    </tr>\n",
       "  </thead>\n",
       "  <tbody>\n",
       "    <tr>\n",
       "      <th>0</th>\n",
       "      <td>1000001</td>\n",
       "      <td>P00069042</td>\n",
       "      <td>0</td>\n",
       "      <td>0-17</td>\n",
       "      <td>10</td>\n",
       "      <td>A</td>\n",
       "      <td>2</td>\n",
       "      <td>0</td>\n",
       "      <td>3</td>\n",
       "      <td>8.0</td>\n",
       "      <td>16.0</td>\n",
       "      <td>8370</td>\n",
       "    </tr>\n",
       "    <tr>\n",
       "      <th>1</th>\n",
       "      <td>1000001</td>\n",
       "      <td>P00248942</td>\n",
       "      <td>0</td>\n",
       "      <td>0-17</td>\n",
       "      <td>10</td>\n",
       "      <td>A</td>\n",
       "      <td>2</td>\n",
       "      <td>0</td>\n",
       "      <td>1</td>\n",
       "      <td>6.0</td>\n",
       "      <td>14.0</td>\n",
       "      <td>15200</td>\n",
       "    </tr>\n",
       "    <tr>\n",
       "      <th>2</th>\n",
       "      <td>1000001</td>\n",
       "      <td>P00087842</td>\n",
       "      <td>0</td>\n",
       "      <td>0-17</td>\n",
       "      <td>10</td>\n",
       "      <td>A</td>\n",
       "      <td>2</td>\n",
       "      <td>0</td>\n",
       "      <td>12</td>\n",
       "      <td>8.0</td>\n",
       "      <td>16.0</td>\n",
       "      <td>1422</td>\n",
       "    </tr>\n",
       "    <tr>\n",
       "      <th>3</th>\n",
       "      <td>1000001</td>\n",
       "      <td>P00085442</td>\n",
       "      <td>0</td>\n",
       "      <td>0-17</td>\n",
       "      <td>10</td>\n",
       "      <td>A</td>\n",
       "      <td>2</td>\n",
       "      <td>0</td>\n",
       "      <td>12</td>\n",
       "      <td>14.0</td>\n",
       "      <td>16.0</td>\n",
       "      <td>1057</td>\n",
       "    </tr>\n",
       "    <tr>\n",
       "      <th>4</th>\n",
       "      <td>1000002</td>\n",
       "      <td>P00285442</td>\n",
       "      <td>1</td>\n",
       "      <td>55+</td>\n",
       "      <td>16</td>\n",
       "      <td>C</td>\n",
       "      <td>4</td>\n",
       "      <td>0</td>\n",
       "      <td>8</td>\n",
       "      <td>8.0</td>\n",
       "      <td>16.0</td>\n",
       "      <td>7969</td>\n",
       "    </tr>\n",
       "  </tbody>\n",
       "</table>\n",
       "</div>"
      ],
      "text/plain": [
       "   User_ID Product_ID  Gender   Age  Occupation City_Category  \\\n",
       "0  1000001  P00069042       0  0-17          10             A   \n",
       "1  1000001  P00248942       0  0-17          10             A   \n",
       "2  1000001  P00087842       0  0-17          10             A   \n",
       "3  1000001  P00085442       0  0-17          10             A   \n",
       "4  1000002  P00285442       1   55+          16             C   \n",
       "\n",
       "  Stay_In_Current_City_Years  Marital_Status  Product_Category_1  \\\n",
       "0                          2               0                   3   \n",
       "1                          2               0                   1   \n",
       "2                          2               0                  12   \n",
       "3                          2               0                  12   \n",
       "4                          4               0                   8   \n",
       "\n",
       "   Product_Category_2  Product_Category_3  Purchase  \n",
       "0                 8.0                16.0      8370  \n",
       "1                 6.0                14.0     15200  \n",
       "2                 8.0                16.0      1422  \n",
       "3                14.0                16.0      1057  \n",
       "4                 8.0                16.0      7969  "
      ]
     },
     "execution_count": 87,
     "metadata": {},
     "output_type": "execute_result"
    }
   ],
   "source": [
    "df.head()"
   ]
  },
  {
   "cell_type": "code",
   "execution_count": 88,
   "metadata": {},
   "outputs": [],
   "source": [
    "df['Age'] = df['Age'].map(age_dict)"
   ]
  },
  {
   "cell_type": "code",
   "execution_count": 89,
   "metadata": {},
   "outputs": [
    {
     "data": {
      "text/plain": [
       "{'0-17': 1,\n",
       " '55+': 7,\n",
       " '26-35': 3,\n",
       " '46-50': 5,\n",
       " '51-55': 6,\n",
       " '36-45': 4,\n",
       " '18-25': 2}"
      ]
     },
     "execution_count": 89,
     "metadata": {},
     "output_type": "execute_result"
    }
   ],
   "source": [
    "age_dict"
   ]
  },
  {
   "cell_type": "code",
   "execution_count": 90,
   "metadata": {},
   "outputs": [],
   "source": [
    "df['City_Category'] = df['City_Category'].map(city_dict)"
   ]
  },
  {
   "cell_type": "code",
   "execution_count": 91,
   "metadata": {},
   "outputs": [
    {
     "data": {
      "text/html": [
       "<div>\n",
       "<style scoped>\n",
       "    .dataframe tbody tr th:only-of-type {\n",
       "        vertical-align: middle;\n",
       "    }\n",
       "\n",
       "    .dataframe tbody tr th {\n",
       "        vertical-align: top;\n",
       "    }\n",
       "\n",
       "    .dataframe thead th {\n",
       "        text-align: right;\n",
       "    }\n",
       "</style>\n",
       "<table border=\"1\" class=\"dataframe\">\n",
       "  <thead>\n",
       "    <tr style=\"text-align: right;\">\n",
       "      <th></th>\n",
       "      <th>User_ID</th>\n",
       "      <th>Product_ID</th>\n",
       "      <th>Gender</th>\n",
       "      <th>Age</th>\n",
       "      <th>Occupation</th>\n",
       "      <th>City_Category</th>\n",
       "      <th>Stay_In_Current_City_Years</th>\n",
       "      <th>Marital_Status</th>\n",
       "      <th>Product_Category_1</th>\n",
       "      <th>Product_Category_2</th>\n",
       "      <th>Product_Category_3</th>\n",
       "      <th>Purchase</th>\n",
       "    </tr>\n",
       "  </thead>\n",
       "  <tbody>\n",
       "    <tr>\n",
       "      <th>0</th>\n",
       "      <td>1000001</td>\n",
       "      <td>P00069042</td>\n",
       "      <td>0</td>\n",
       "      <td>1</td>\n",
       "      <td>10</td>\n",
       "      <td>0</td>\n",
       "      <td>2</td>\n",
       "      <td>0</td>\n",
       "      <td>3</td>\n",
       "      <td>8.0</td>\n",
       "      <td>16.0</td>\n",
       "      <td>8370</td>\n",
       "    </tr>\n",
       "    <tr>\n",
       "      <th>1</th>\n",
       "      <td>1000001</td>\n",
       "      <td>P00248942</td>\n",
       "      <td>0</td>\n",
       "      <td>1</td>\n",
       "      <td>10</td>\n",
       "      <td>0</td>\n",
       "      <td>2</td>\n",
       "      <td>0</td>\n",
       "      <td>1</td>\n",
       "      <td>6.0</td>\n",
       "      <td>14.0</td>\n",
       "      <td>15200</td>\n",
       "    </tr>\n",
       "    <tr>\n",
       "      <th>2</th>\n",
       "      <td>1000001</td>\n",
       "      <td>P00087842</td>\n",
       "      <td>0</td>\n",
       "      <td>1</td>\n",
       "      <td>10</td>\n",
       "      <td>0</td>\n",
       "      <td>2</td>\n",
       "      <td>0</td>\n",
       "      <td>12</td>\n",
       "      <td>8.0</td>\n",
       "      <td>16.0</td>\n",
       "      <td>1422</td>\n",
       "    </tr>\n",
       "    <tr>\n",
       "      <th>3</th>\n",
       "      <td>1000001</td>\n",
       "      <td>P00085442</td>\n",
       "      <td>0</td>\n",
       "      <td>1</td>\n",
       "      <td>10</td>\n",
       "      <td>0</td>\n",
       "      <td>2</td>\n",
       "      <td>0</td>\n",
       "      <td>12</td>\n",
       "      <td>14.0</td>\n",
       "      <td>16.0</td>\n",
       "      <td>1057</td>\n",
       "    </tr>\n",
       "    <tr>\n",
       "      <th>4</th>\n",
       "      <td>1000002</td>\n",
       "      <td>P00285442</td>\n",
       "      <td>1</td>\n",
       "      <td>7</td>\n",
       "      <td>16</td>\n",
       "      <td>2</td>\n",
       "      <td>4</td>\n",
       "      <td>0</td>\n",
       "      <td>8</td>\n",
       "      <td>8.0</td>\n",
       "      <td>16.0</td>\n",
       "      <td>7969</td>\n",
       "    </tr>\n",
       "  </tbody>\n",
       "</table>\n",
       "</div>"
      ],
      "text/plain": [
       "   User_ID Product_ID  Gender  Age  Occupation  City_Category  \\\n",
       "0  1000001  P00069042       0    1          10              0   \n",
       "1  1000001  P00248942       0    1          10              0   \n",
       "2  1000001  P00087842       0    1          10              0   \n",
       "3  1000001  P00085442       0    1          10              0   \n",
       "4  1000002  P00285442       1    7          16              2   \n",
       "\n",
       "  Stay_In_Current_City_Years  Marital_Status  Product_Category_1  \\\n",
       "0                          2               0                   3   \n",
       "1                          2               0                   1   \n",
       "2                          2               0                  12   \n",
       "3                          2               0                  12   \n",
       "4                          4               0                   8   \n",
       "\n",
       "   Product_Category_2  Product_Category_3  Purchase  \n",
       "0                 8.0                16.0      8370  \n",
       "1                 6.0                14.0     15200  \n",
       "2                 8.0                16.0      1422  \n",
       "3                14.0                16.0      1057  \n",
       "4                 8.0                16.0      7969  "
      ]
     },
     "execution_count": 91,
     "metadata": {},
     "output_type": "execute_result"
    }
   ],
   "source": [
    "df.head()"
   ]
  },
  {
   "cell_type": "code",
   "execution_count": 92,
   "metadata": {},
   "outputs": [
    {
     "data": {
      "text/plain": [
       "User_ID                         int64\n",
       "Product_ID                     object\n",
       "Gender                          int64\n",
       "Age                             int64\n",
       "Occupation                      int64\n",
       "City_Category                   int64\n",
       "Stay_In_Current_City_Years     object\n",
       "Marital_Status                  int64\n",
       "Product_Category_1              int64\n",
       "Product_Category_2            float64\n",
       "Product_Category_3            float64\n",
       "Purchase                        int64\n",
       "dtype: object"
      ]
     },
     "execution_count": 92,
     "metadata": {},
     "output_type": "execute_result"
    }
   ],
   "source": [
    "# Save Numeric Data\n",
    "df.dtypes"
   ]
  },
  {
   "cell_type": "code",
   "execution_count": 95,
   "metadata": {},
   "outputs": [],
   "source": [
    "df['Stay_In_Current_City_Years'] = df['Stay_In_Current_City_Years'].astype(int)"
   ]
  },
  {
   "cell_type": "code",
   "execution_count": 96,
   "metadata": {},
   "outputs": [
    {
     "data": {
      "text/plain": [
       "User_ID                         int64\n",
       "Product_ID                     object\n",
       "Gender                          int64\n",
       "Age                             int64\n",
       "Occupation                      int64\n",
       "City_Category                   int64\n",
       "Stay_In_Current_City_Years      int64\n",
       "Marital_Status                  int64\n",
       "Product_Category_1              int64\n",
       "Product_Category_2            float64\n",
       "Product_Category_3            float64\n",
       "Purchase                        int64\n",
       "dtype: object"
      ]
     },
     "execution_count": 96,
     "metadata": {},
     "output_type": "execute_result"
    }
   ],
   "source": [
    "df.dtypes"
   ]
  },
  {
   "cell_type": "code",
   "execution_count": 97,
   "metadata": {},
   "outputs": [],
   "source": [
    "df.to_csv(\"Black_Friday_Data_Encoded.csv\")"
   ]
  },
  {
   "cell_type": "code",
   "execution_count": null,
   "metadata": {},
   "outputs": [],
   "source": [
    "### Machine Learning"
   ]
  },
  {
   "cell_type": "code",
   "execution_count": 98,
   "metadata": {},
   "outputs": [
    {
     "data": {
      "text/plain": [
       "Index(['User_ID', 'Product_ID', 'Gender', 'Age', 'Occupation', 'City_Category',\n",
       "       'Stay_In_Current_City_Years', 'Marital_Status', 'Product_Category_1',\n",
       "       'Product_Category_2', 'Product_Category_3', 'Purchase'],\n",
       "      dtype='object')"
      ]
     },
     "execution_count": 98,
     "metadata": {},
     "output_type": "execute_result"
    }
   ],
   "source": [
    "df.columns"
   ]
  },
  {
   "cell_type": "code",
   "execution_count": 104,
   "metadata": {},
   "outputs": [],
   "source": [
    "df2 = df[['Gender', 'Age', 'Occupation', 'City_Category',\n",
    "       'Stay_In_Current_City_Years', 'Marital_Status', 'Product_Category_1',\n",
    "       'Product_Category_2', 'Product_Category_3', 'Purchase']]"
   ]
  },
  {
   "cell_type": "code",
   "execution_count": 105,
   "metadata": {},
   "outputs": [
    {
     "data": {
      "text/plain": [
       "<matplotlib.axes._subplots.AxesSubplot at 0x7f2737ad8110>"
      ]
     },
     "execution_count": 105,
     "metadata": {},
     "output_type": "execute_result"
    },
    {
     "data": {
      "image/png": "[encoded data removed]",
      "text/plain": [
       "<Figure size 432x288 with 2 Axes>"
      ]
     },
     "metadata": {
      "needs_background": "light"
     },
     "output_type": "display_data"
    }
   ],
   "source": [
    "sns.heatmap(df2.corr(),annot=True)"
   ]
  },
  {
   "cell_type": "code",
   "execution_count": null,
   "metadata": {},
   "outputs": [],
   "source": [
    "# Remove User ID and Product ID\n"
   ]
  },
  {
   "cell_type": "code",
   "execution_count": 99,
   "metadata": {},
   "outputs": [],
   "source": [
    "Xfeatures = df[['Gender', 'Age', 'Occupation', 'City_Category',\n",
    "       'Stay_In_Current_City_Years', 'Marital_Status', 'Product_Category_1',\n",
    "       'Product_Category_2', 'Product_Category_3']]"
   ]
  },
  {
   "cell_type": "code",
   "execution_count": 100,
   "metadata": {
    "collapsed": true,
    "jupyter": {
     "outputs_hidden": true
    }
   },
   "outputs": [
    {
     "data": {
      "text/html": [
       "<div>\n",
       "<style scoped>\n",
       "    .dataframe tbody tr th:only-of-type {\n",
       "        vertical-align: middle;\n",
       "    }\n",
       "\n",
       "    .dataframe tbody tr th {\n",
       "        vertical-align: top;\n",
       "    }\n",
       "\n",
       "    .dataframe thead th {\n",
       "        text-align: right;\n",
       "    }\n",
       "</style>\n",
       "<table border=\"1\" class=\"dataframe\">\n",
       "  <thead>\n",
       "    <tr style=\"text-align: right;\">\n",
       "      <th></th>\n",
       "      <th>Gender</th>\n",
       "      <th>Age</th>\n",
       "      <th>Occupation</th>\n",
       "      <th>City_Category</th>\n",
       "      <th>Stay_In_Current_City_Years</th>\n",
       "      <th>Marital_Status</th>\n",
       "      <th>Product_Category_1</th>\n",
       "      <th>Product_Category_2</th>\n",
       "      <th>Product_Category_3</th>\n",
       "    </tr>\n",
       "  </thead>\n",
       "  <tbody>\n",
       "    <tr>\n",
       "      <th>0</th>\n",
       "      <td>0</td>\n",
       "      <td>1</td>\n",
       "      <td>10</td>\n",
       "      <td>0</td>\n",
       "      <td>2</td>\n",
       "      <td>0</td>\n",
       "      <td>3</td>\n",
       "      <td>8.0</td>\n",
       "      <td>16.0</td>\n",
       "    </tr>\n",
       "    <tr>\n",
       "      <th>1</th>\n",
       "      <td>0</td>\n",
       "      <td>1</td>\n",
       "      <td>10</td>\n",
       "      <td>0</td>\n",
       "      <td>2</td>\n",
       "      <td>0</td>\n",
       "      <td>1</td>\n",
       "      <td>6.0</td>\n",
       "      <td>14.0</td>\n",
       "    </tr>\n",
       "    <tr>\n",
       "      <th>2</th>\n",
       "      <td>0</td>\n",
       "      <td>1</td>\n",
       "      <td>10</td>\n",
       "      <td>0</td>\n",
       "      <td>2</td>\n",
       "      <td>0</td>\n",
       "      <td>12</td>\n",
       "      <td>8.0</td>\n",
       "      <td>16.0</td>\n",
       "    </tr>\n",
       "    <tr>\n",
       "      <th>3</th>\n",
       "      <td>0</td>\n",
       "      <td>1</td>\n",
       "      <td>10</td>\n",
       "      <td>0</td>\n",
       "      <td>2</td>\n",
       "      <td>0</td>\n",
       "      <td>12</td>\n",
       "      <td>14.0</td>\n",
       "      <td>16.0</td>\n",
       "    </tr>\n",
       "    <tr>\n",
       "      <th>4</th>\n",
       "      <td>1</td>\n",
       "      <td>7</td>\n",
       "      <td>16</td>\n",
       "      <td>2</td>\n",
       "      <td>4</td>\n",
       "      <td>0</td>\n",
       "      <td>8</td>\n",
       "      <td>8.0</td>\n",
       "      <td>16.0</td>\n",
       "    </tr>\n",
       "    <tr>\n",
       "      <th>...</th>\n",
       "      <td>...</td>\n",
       "      <td>...</td>\n",
       "      <td>...</td>\n",
       "      <td>...</td>\n",
       "      <td>...</td>\n",
       "      <td>...</td>\n",
       "      <td>...</td>\n",
       "      <td>...</td>\n",
       "      <td>...</td>\n",
       "    </tr>\n",
       "    <tr>\n",
       "      <th>537572</th>\n",
       "      <td>1</td>\n",
       "      <td>4</td>\n",
       "      <td>16</td>\n",
       "      <td>2</td>\n",
       "      <td>1</td>\n",
       "      <td>0</td>\n",
       "      <td>1</td>\n",
       "      <td>2.0</td>\n",
       "      <td>16.0</td>\n",
       "    </tr>\n",
       "    <tr>\n",
       "      <th>537573</th>\n",
       "      <td>1</td>\n",
       "      <td>4</td>\n",
       "      <td>16</td>\n",
       "      <td>2</td>\n",
       "      <td>1</td>\n",
       "      <td>0</td>\n",
       "      <td>1</td>\n",
       "      <td>15.0</td>\n",
       "      <td>16.0</td>\n",
       "    </tr>\n",
       "    <tr>\n",
       "      <th>537574</th>\n",
       "      <td>1</td>\n",
       "      <td>4</td>\n",
       "      <td>16</td>\n",
       "      <td>2</td>\n",
       "      <td>1</td>\n",
       "      <td>0</td>\n",
       "      <td>8</td>\n",
       "      <td>15.0</td>\n",
       "      <td>16.0</td>\n",
       "    </tr>\n",
       "    <tr>\n",
       "      <th>537575</th>\n",
       "      <td>1</td>\n",
       "      <td>4</td>\n",
       "      <td>16</td>\n",
       "      <td>2</td>\n",
       "      <td>1</td>\n",
       "      <td>0</td>\n",
       "      <td>5</td>\n",
       "      <td>8.0</td>\n",
       "      <td>16.0</td>\n",
       "    </tr>\n",
       "    <tr>\n",
       "      <th>537576</th>\n",
       "      <td>1</td>\n",
       "      <td>4</td>\n",
       "      <td>16</td>\n",
       "      <td>2</td>\n",
       "      <td>1</td>\n",
       "      <td>0</td>\n",
       "      <td>5</td>\n",
       "      <td>8.0</td>\n",
       "      <td>16.0</td>\n",
       "    </tr>\n",
       "  </tbody>\n",
       "</table>\n",
       "<p>537577 rows × 9 columns</p>\n",
       "</div>"
      ],
      "text/plain": [
       "        Gender  Age  Occupation  City_Category  Stay_In_Current_City_Years  \\\n",
       "0            0    1          10              0                           2   \n",
       "1            0    1          10              0                           2   \n",
       "2            0    1          10              0                           2   \n",
       "3            0    1          10              0                           2   \n",
       "4            1    7          16              2                           4   \n",
       "...        ...  ...         ...            ...                         ...   \n",
       "537572       1    4          16              2                           1   \n",
       "537573       1    4          16              2                           1   \n",
       "537574       1    4          16              2                           1   \n",
       "537575       1    4          16              2                           1   \n",
       "537576       1    4          16              2                           1   \n",
       "\n",
       "        Marital_Status  Product_Category_1  Product_Category_2  \\\n",
       "0                    0                   3                 8.0   \n",
       "1                    0                   1                 6.0   \n",
       "2                    0                  12                 8.0   \n",
       "3                    0                  12                14.0   \n",
       "4                    0                   8                 8.0   \n",
       "...                ...                 ...                 ...   \n",
       "537572               0                   1                 2.0   \n",
       "537573               0                   1                15.0   \n",
       "537574               0                   8                15.0   \n",
       "537575               0                   5                 8.0   \n",
       "537576               0                   5                 8.0   \n",
       "\n",
       "        Product_Category_3  \n",
       "0                     16.0  \n",
       "1                     14.0  \n",
       "2                     16.0  \n",
       "3                     16.0  \n",
       "4                     16.0  \n",
       "...                    ...  \n",
       "537572                16.0  \n",
       "537573                16.0  \n",
       "537574                16.0  \n",
       "537575                16.0  \n",
       "537576                16.0  \n",
       "\n",
       "[537577 rows x 9 columns]"
      ]
     },
     "execution_count": 100,
     "metadata": {},
     "output_type": "execute_result"
    }
   ],
   "source": [
    "Xfeatures"
   ]
  },
  {
   "cell_type": "code",
   "execution_count": 102,
   "metadata": {},
   "outputs": [],
   "source": [
    "from sklearn.preprocessing import StandardScaler\n",
    "scaler = StandardScaler()"
   ]
  },
  {
   "cell_type": "code",
   "execution_count": 106,
   "metadata": {},
   "outputs": [],
   "source": [
    "X = scaler.fit_transform(Xfeatures)"
   ]
  },
  {
   "cell_type": "code",
   "execution_count": 107,
   "metadata": {},
   "outputs": [
    {
     "data": {
      "text/html": [
       "<div>\n",
       "<style scoped>\n",
       "    .dataframe tbody tr th:only-of-type {\n",
       "        vertical-align: middle;\n",
       "    }\n",
       "\n",
       "    .dataframe tbody tr th {\n",
       "        vertical-align: top;\n",
       "    }\n",
       "\n",
       "    .dataframe thead th {\n",
       "        text-align: right;\n",
       "    }\n",
       "</style>\n",
       "<table border=\"1\" class=\"dataframe\">\n",
       "  <thead>\n",
       "    <tr style=\"text-align: right;\">\n",
       "      <th></th>\n",
       "      <th>Gender</th>\n",
       "      <th>Age</th>\n",
       "      <th>Occupation</th>\n",
       "      <th>City_Category</th>\n",
       "      <th>Stay_In_Current_City_Years</th>\n",
       "      <th>Marital_Status</th>\n",
       "      <th>Product_Category_1</th>\n",
       "      <th>Product_Category_2</th>\n",
       "      <th>Product_Category_3</th>\n",
       "    </tr>\n",
       "  </thead>\n",
       "  <tbody>\n",
       "    <tr>\n",
       "      <th>0</th>\n",
       "      <td>0</td>\n",
       "      <td>1</td>\n",
       "      <td>10</td>\n",
       "      <td>0</td>\n",
       "      <td>2</td>\n",
       "      <td>0</td>\n",
       "      <td>3</td>\n",
       "      <td>8.0</td>\n",
       "      <td>16.0</td>\n",
       "    </tr>\n",
       "    <tr>\n",
       "      <th>1</th>\n",
       "      <td>0</td>\n",
       "      <td>1</td>\n",
       "      <td>10</td>\n",
       "      <td>0</td>\n",
       "      <td>2</td>\n",
       "      <td>0</td>\n",
       "      <td>1</td>\n",
       "      <td>6.0</td>\n",
       "      <td>14.0</td>\n",
       "    </tr>\n",
       "    <tr>\n",
       "      <th>2</th>\n",
       "      <td>0</td>\n",
       "      <td>1</td>\n",
       "      <td>10</td>\n",
       "      <td>0</td>\n",
       "      <td>2</td>\n",
       "      <td>0</td>\n",
       "      <td>12</td>\n",
       "      <td>8.0</td>\n",
       "      <td>16.0</td>\n",
       "    </tr>\n",
       "    <tr>\n",
       "      <th>3</th>\n",
       "      <td>0</td>\n",
       "      <td>1</td>\n",
       "      <td>10</td>\n",
       "      <td>0</td>\n",
       "      <td>2</td>\n",
       "      <td>0</td>\n",
       "      <td>12</td>\n",
       "      <td>14.0</td>\n",
       "      <td>16.0</td>\n",
       "    </tr>\n",
       "    <tr>\n",
       "      <th>4</th>\n",
       "      <td>1</td>\n",
       "      <td>7</td>\n",
       "      <td>16</td>\n",
       "      <td>2</td>\n",
       "      <td>4</td>\n",
       "      <td>0</td>\n",
       "      <td>8</td>\n",
       "      <td>8.0</td>\n",
       "      <td>16.0</td>\n",
       "    </tr>\n",
       "  </tbody>\n",
       "</table>\n",
       "</div>"
      ],
      "text/plain": [
       "   Gender  Age  Occupation  City_Category  Stay_In_Current_City_Years  \\\n",
       "0       0    1          10              0                           2   \n",
       "1       0    1          10              0                           2   \n",
       "2       0    1          10              0                           2   \n",
       "3       0    1          10              0                           2   \n",
       "4       1    7          16              2                           4   \n",
       "\n",
       "   Marital_Status  Product_Category_1  Product_Category_2  Product_Category_3  \n",
       "0               0                   3                 8.0                16.0  \n",
       "1               0                   1                 6.0                14.0  \n",
       "2               0                  12                 8.0                16.0  \n",
       "3               0                  12                14.0                16.0  \n",
       "4               0                   8                 8.0                16.0  "
      ]
     },
     "execution_count": 107,
     "metadata": {},
     "output_type": "execute_result"
    }
   ],
   "source": [
    "Xfeatures.head()"
   ]
  },
  {
   "cell_type": "code",
   "execution_count": 109,
   "metadata": {
    "collapsed": true,
    "jupyter": {
     "outputs_hidden": true
    }
   },
   "outputs": [
    {
     "data": {
      "text/plain": [
       "array([[-1.75113795, -1.84443901,  0.29387746, ..., -0.6120319 ,\n",
       "        -0.2947123 ,  0.3703298 ],\n",
       "       [-1.75113795, -1.84443901,  0.29387746, ..., -1.14526606,\n",
       "        -0.75885388, -0.35747489],\n",
       "       [-1.75113795, -1.84443901,  0.29387746, ...,  1.78752181,\n",
       "        -0.2947123 ,  0.3703298 ],\n",
       "       ...,\n",
       "       [ 0.57105724,  0.37354097,  1.21354261, ...,  0.72105349,\n",
       "         1.32978324,  0.3703298 ],\n",
       "       [ 0.57105724,  0.37354097,  1.21354261, ..., -0.07879774,\n",
       "        -0.2947123 ,  0.3703298 ],\n",
       "       [ 0.57105724,  0.37354097,  1.21354261, ..., -0.07879774,\n",
       "        -0.2947123 ,  0.3703298 ]])"
      ]
     },
     "execution_count": 109,
     "metadata": {},
     "output_type": "execute_result"
    }
   ],
   "source": [
    "X"
   ]
  },
  {
   "cell_type": "code",
   "execution_count": 110,
   "metadata": {},
   "outputs": [
    {
     "data": {
      "text/plain": [
       "Index(['Gender', 'Age', 'Occupation', 'City_Category',\n",
       "       'Stay_In_Current_City_Years', 'Marital_Status', 'Product_Category_1',\n",
       "       'Product_Category_2', 'Product_Category_3'],\n",
       "      dtype='object')"
      ]
     },
     "execution_count": 110,
     "metadata": {},
     "output_type": "execute_result"
    }
   ],
   "source": [
    "Xfeatures.columns"
   ]
  },
  {
   "cell_type": "code",
   "execution_count": 112,
   "metadata": {},
   "outputs": [],
   "source": [
    "X2 = pd.DataFrame(X,columns=Xfeatures.columns)"
   ]
  },
  {
   "cell_type": "code",
   "execution_count": 113,
   "metadata": {},
   "outputs": [
    {
     "data": {
      "text/html": [
       "<div>\n",
       "<style scoped>\n",
       "    .dataframe tbody tr th:only-of-type {\n",
       "        vertical-align: middle;\n",
       "    }\n",
       "\n",
       "    .dataframe tbody tr th {\n",
       "        vertical-align: top;\n",
       "    }\n",
       "\n",
       "    .dataframe thead th {\n",
       "        text-align: right;\n",
       "    }\n",
       "</style>\n",
       "<table border=\"1\" class=\"dataframe\">\n",
       "  <thead>\n",
       "    <tr style=\"text-align: right;\">\n",
       "      <th></th>\n",
       "      <th>Gender</th>\n",
       "      <th>Age</th>\n",
       "      <th>Occupation</th>\n",
       "      <th>City_Category</th>\n",
       "      <th>Stay_In_Current_City_Years</th>\n",
       "      <th>Marital_Status</th>\n",
       "      <th>Product_Category_1</th>\n",
       "      <th>Product_Category_2</th>\n",
       "      <th>Product_Category_3</th>\n",
       "    </tr>\n",
       "  </thead>\n",
       "  <tbody>\n",
       "    <tr>\n",
       "      <th>0</th>\n",
       "      <td>-1.751138</td>\n",
       "      <td>-1.844439</td>\n",
       "      <td>0.293877</td>\n",
       "      <td>-1.369841</td>\n",
       "      <td>0.108962</td>\n",
       "      <td>-0.831545</td>\n",
       "      <td>-0.612032</td>\n",
       "      <td>-0.294712</td>\n",
       "      <td>0.370330</td>\n",
       "    </tr>\n",
       "    <tr>\n",
       "      <th>1</th>\n",
       "      <td>-1.751138</td>\n",
       "      <td>-1.844439</td>\n",
       "      <td>0.293877</td>\n",
       "      <td>-1.369841</td>\n",
       "      <td>0.108962</td>\n",
       "      <td>-0.831545</td>\n",
       "      <td>-1.145266</td>\n",
       "      <td>-0.758854</td>\n",
       "      <td>-0.357475</td>\n",
       "    </tr>\n",
       "    <tr>\n",
       "      <th>2</th>\n",
       "      <td>-1.751138</td>\n",
       "      <td>-1.844439</td>\n",
       "      <td>0.293877</td>\n",
       "      <td>-1.369841</td>\n",
       "      <td>0.108962</td>\n",
       "      <td>-0.831545</td>\n",
       "      <td>1.787522</td>\n",
       "      <td>-0.294712</td>\n",
       "      <td>0.370330</td>\n",
       "    </tr>\n",
       "    <tr>\n",
       "      <th>3</th>\n",
       "      <td>-1.751138</td>\n",
       "      <td>-1.844439</td>\n",
       "      <td>0.293877</td>\n",
       "      <td>-1.369841</td>\n",
       "      <td>0.108962</td>\n",
       "      <td>-0.831545</td>\n",
       "      <td>1.787522</td>\n",
       "      <td>1.097712</td>\n",
       "      <td>0.370330</td>\n",
       "    </tr>\n",
       "    <tr>\n",
       "      <th>4</th>\n",
       "      <td>0.571057</td>\n",
       "      <td>2.591521</td>\n",
       "      <td>1.213543</td>\n",
       "      <td>1.263032</td>\n",
       "      <td>1.659557</td>\n",
       "      <td>-0.831545</td>\n",
       "      <td>0.721053</td>\n",
       "      <td>-0.294712</td>\n",
       "      <td>0.370330</td>\n",
       "    </tr>\n",
       "  </tbody>\n",
       "</table>\n",
       "</div>"
      ],
      "text/plain": [
       "     Gender       Age  Occupation  City_Category  Stay_In_Current_City_Years  \\\n",
       "0 -1.751138 -1.844439    0.293877      -1.369841                    0.108962   \n",
       "1 -1.751138 -1.844439    0.293877      -1.369841                    0.108962   \n",
       "2 -1.751138 -1.844439    0.293877      -1.369841                    0.108962   \n",
       "3 -1.751138 -1.844439    0.293877      -1.369841                    0.108962   \n",
       "4  0.571057  2.591521    1.213543       1.263032                    1.659557   \n",
       "\n",
       "   Marital_Status  Product_Category_1  Product_Category_2  Product_Category_3  \n",
       "0       -0.831545           -0.612032           -0.294712            0.370330  \n",
       "1       -0.831545           -1.145266           -0.758854           -0.357475  \n",
       "2       -0.831545            1.787522           -0.294712            0.370330  \n",
       "3       -0.831545            1.787522            1.097712            0.370330  \n",
       "4       -0.831545            0.721053           -0.294712            0.370330  "
      ]
     },
     "execution_count": 113,
     "metadata": {},
     "output_type": "execute_result"
    }
   ],
   "source": [
    "X2.head()"
   ]
  },
  {
   "cell_type": "code",
   "execution_count": 114,
   "metadata": {},
   "outputs": [],
   "source": [
    "from sklearn.model_selection import train_test_split"
   ]
  },
  {
   "cell_type": "code",
   "execution_count": 115,
   "metadata": {},
   "outputs": [],
   "source": [
    "y = df['Purchase']"
   ]
  },
  {
   "cell_type": "code",
   "execution_count": 116,
   "metadata": {},
   "outputs": [],
   "source": [
    "# split into training and testing sets\n",
    "X_train, X_test, y_train, y_test = train_test_split(\n",
    "    X2, y, test_size=0.2, random_state=42)"
   ]
  },
  {
   "cell_type": "code",
   "execution_count": 171,
   "metadata": {},
   "outputs": [],
   "source": [
    "# split into training and testing sets\n",
    "# Unscaled\n",
    "X_train2, X_test2, y_train2, y_test2 = train_test_split(\n",
    "    Xfeatures, y, test_size=0.2, random_state=42)"
   ]
  },
  {
   "cell_type": "code",
   "execution_count": 117,
   "metadata": {},
   "outputs": [],
   "source": [
    "from sklearn.linear_model import LinearRegression\n",
    "from sklearn.tree import DecisionTreeRegressor"
   ]
  },
  {
   "cell_type": "code",
   "execution_count": 119,
   "metadata": {},
   "outputs": [
    {
     "data": {
      "text/plain": [
       "LinearRegression(copy_X=True, fit_intercept=True, n_jobs=None, normalize=False)"
      ]
     },
     "execution_count": 119,
     "metadata": {},
     "output_type": "execute_result"
    }
   ],
   "source": [
    "lr_model = LinearRegression()\n",
    "lr_model.fit(X_train,y_train)"
   ]
  },
  {
   "cell_type": "code",
   "execution_count": 121,
   "metadata": {},
   "outputs": [],
   "source": [
    "from sklearn.metrics import accuracy_score,mean_squared_error,r2_score"
   ]
  },
  {
   "cell_type": "code",
   "execution_count": 122,
   "metadata": {},
   "outputs": [],
   "source": [
    "y_pred_lr = lr_model.predict(X_test)"
   ]
  },
  {
   "cell_type": "code",
   "execution_count": 123,
   "metadata": {},
   "outputs": [
    {
     "data": {
      "text/plain": [
       "array([11516.40695968, 10484.33467112,  8017.8019378 , ...,\n",
       "        8918.05822166,  8965.55346022,  9463.95458624])"
      ]
     },
     "execution_count": 123,
     "metadata": {},
     "output_type": "execute_result"
    }
   ],
   "source": [
    "y_pred_lr"
   ]
  },
  {
   "cell_type": "code",
   "execution_count": 125,
   "metadata": {},
   "outputs": [],
   "source": [
    "actual_df = pd.DataFrame(y_pred_lr,columns=['Prediction'])"
   ]
  },
  {
   "cell_type": "code",
   "execution_count": 128,
   "metadata": {},
   "outputs": [],
   "source": [
    "actual_df['Actual'] = y_test"
   ]
  },
  {
   "cell_type": "code",
   "execution_count": 129,
   "metadata": {
    "collapsed": true,
    "jupyter": {
     "outputs_hidden": true
    }
   },
   "outputs": [
    {
     "data": {
      "text/html": [
       "<div>\n",
       "<style scoped>\n",
       "    .dataframe tbody tr th:only-of-type {\n",
       "        vertical-align: middle;\n",
       "    }\n",
       "\n",
       "    .dataframe tbody tr th {\n",
       "        vertical-align: top;\n",
       "    }\n",
       "\n",
       "    .dataframe thead th {\n",
       "        text-align: right;\n",
       "    }\n",
       "</style>\n",
       "<table border=\"1\" class=\"dataframe\">\n",
       "  <thead>\n",
       "    <tr style=\"text-align: right;\">\n",
       "      <th></th>\n",
       "      <th>Prediction</th>\n",
       "      <th>Actual</th>\n",
       "    </tr>\n",
       "  </thead>\n",
       "  <tbody>\n",
       "    <tr>\n",
       "      <th>0</th>\n",
       "      <td>11516.406960</td>\n",
       "      <td>NaN</td>\n",
       "    </tr>\n",
       "    <tr>\n",
       "      <th>1</th>\n",
       "      <td>10484.334671</td>\n",
       "      <td>NaN</td>\n",
       "    </tr>\n",
       "    <tr>\n",
       "      <th>2</th>\n",
       "      <td>8017.801938</td>\n",
       "      <td>1422.0</td>\n",
       "    </tr>\n",
       "    <tr>\n",
       "      <th>3</th>\n",
       "      <td>7945.256084</td>\n",
       "      <td>NaN</td>\n",
       "    </tr>\n",
       "    <tr>\n",
       "      <th>4</th>\n",
       "      <td>8733.744740</td>\n",
       "      <td>NaN</td>\n",
       "    </tr>\n",
       "    <tr>\n",
       "      <th>...</th>\n",
       "      <td>...</td>\n",
       "      <td>...</td>\n",
       "    </tr>\n",
       "    <tr>\n",
       "      <th>107511</th>\n",
       "      <td>7720.957885</td>\n",
       "      <td>NaN</td>\n",
       "    </tr>\n",
       "    <tr>\n",
       "      <th>107512</th>\n",
       "      <td>4551.201924</td>\n",
       "      <td>NaN</td>\n",
       "    </tr>\n",
       "    <tr>\n",
       "      <th>107513</th>\n",
       "      <td>8918.058222</td>\n",
       "      <td>NaN</td>\n",
       "    </tr>\n",
       "    <tr>\n",
       "      <th>107514</th>\n",
       "      <td>8965.553460</td>\n",
       "      <td>15309.0</td>\n",
       "    </tr>\n",
       "    <tr>\n",
       "      <th>107515</th>\n",
       "      <td>9463.954586</td>\n",
       "      <td>NaN</td>\n",
       "    </tr>\n",
       "  </tbody>\n",
       "</table>\n",
       "<p>107516 rows × 2 columns</p>\n",
       "</div>"
      ],
      "text/plain": [
       "          Prediction   Actual\n",
       "0       11516.406960      NaN\n",
       "1       10484.334671      NaN\n",
       "2        8017.801938   1422.0\n",
       "3        7945.256084      NaN\n",
       "4        8733.744740      NaN\n",
       "...              ...      ...\n",
       "107511   7720.957885      NaN\n",
       "107512   4551.201924      NaN\n",
       "107513   8918.058222      NaN\n",
       "107514   8965.553460  15309.0\n",
       "107515   9463.954586      NaN\n",
       "\n",
       "[107516 rows x 2 columns]"
      ]
     },
     "execution_count": 129,
     "metadata": {},
     "output_type": "execute_result"
    }
   ],
   "source": [
    "actual_df"
   ]
  },
  {
   "cell_type": "code",
   "execution_count": 161,
   "metadata": {},
   "outputs": [
    {
     "data": {
      "text/plain": [
       "8058"
      ]
     },
     "execution_count": 161,
     "metadata": {},
     "output_type": "execute_result"
    }
   ],
   "source": [
    "y_test.iloc[0]"
   ]
  },
  {
   "cell_type": "code",
   "execution_count": 160,
   "metadata": {},
   "outputs": [
    {
     "data": {
      "text/plain": [
       "array([11516.40695968])"
      ]
     },
     "execution_count": 160,
     "metadata": {},
     "output_type": "execute_result"
    }
   ],
   "source": [
    "lr_model.predict(np.array(X_test.iloc[0]).reshape(1,-1))"
   ]
  },
  {
   "cell_type": "code",
   "execution_count": 130,
   "metadata": {},
   "outputs": [
    {
     "name": "stdout",
     "output_type": "stream",
     "text": [
      "Linear Regression: \n",
      "RMSE: 4701.9906626835855\n",
      "R2 score: 0.10972681622758684\n"
     ]
    }
   ],
   "source": [
    "print(\"Linear Regression: \")\n",
    "print(\"RMSE:\",np.sqrt(mean_squared_error(y_test, y_pred_lr)))\n",
    "print(\"R2 score:\", r2_score(y_test, y_pred_lr))"
   ]
  },
  {
   "cell_type": "code",
   "execution_count": 162,
   "metadata": {},
   "outputs": [],
   "source": [
    "import joblib"
   ]
  },
  {
   "cell_type": "code",
   "execution_count": 164,
   "metadata": {},
   "outputs": [],
   "source": [
    "lr_model_file = open(\"lr_bf_sales_model_23_oct.pkl\",\"wb\")\n",
    "joblib.dump(lr_model,lr_model_file)\n",
    "lr_model_file.close()"
   ]
  },
  {
   "cell_type": "code",
   "execution_count": 165,
   "metadata": {},
   "outputs": [],
   "source": [
    "from sklearn.tree import DecisionTreeRegressor\n",
    "dtree = DecisionTreeRegressor()"
   ]
  },
  {
   "cell_type": "code",
   "execution_count": 166,
   "metadata": {},
   "outputs": [
    {
     "data": {
      "text/plain": [
       "DecisionTreeRegressor(ccp_alpha=0.0, criterion='mse', max_depth=None,\n",
       "                      max_features=None, max_leaf_nodes=None,\n",
       "                      min_impurity_decrease=0.0, min_impurity_split=None,\n",
       "                      min_samples_leaf=1, min_samples_split=2,\n",
       "                      min_weight_fraction_leaf=0.0, presort='deprecated',\n",
       "                      random_state=None, splitter='best')"
      ]
     },
     "execution_count": 166,
     "metadata": {},
     "output_type": "execute_result"
    }
   ],
   "source": [
    "dtree.fit(X_train,y_train)"
   ]
  },
  {
   "cell_type": "code",
   "execution_count": 168,
   "metadata": {},
   "outputs": [],
   "source": [
    "y_pred_dt = dtree.predict(X_test)"
   ]
  },
  {
   "cell_type": "code",
   "execution_count": 169,
   "metadata": {},
   "outputs": [
    {
     "name": "stdout",
     "output_type": "stream",
     "text": [
      "Decision Tree Regression: \n",
      "RMSE: 3304.930805973984\n",
      "R2 score: 0.5601703429306146\n"
     ]
    }
   ],
   "source": [
    "print(\"Decision Tree Regression: \")\n",
    "print(\"RMSE:\",np.sqrt(mean_squared_error(y_test, y_pred_dt)))\n",
    "print(\"R2 score:\", r2_score(y_test, y_pred_dt))"
   ]
  },
  {
   "cell_type": "code",
   "execution_count": 170,
   "metadata": {},
   "outputs": [],
   "source": [
    "dt_model_file = open(\"dt_bf_sales_model_23_oct.pkl\",\"wb\")\n",
    "joblib.dump(dtree,dt_model_file)\n",
    "dt_model_file.close()"
   ]
  },
  {
   "cell_type": "code",
   "execution_count": null,
   "metadata": {},
   "outputs": [],
   "source": []
  },
  {
   "cell_type": "code",
   "execution_count": 172,
   "metadata": {},
   "outputs": [
    {
     "data": {
      "text/plain": [
       "LinearRegression(copy_X=True, fit_intercept=True, n_jobs=None, normalize=False)"
      ]
     },
     "execution_count": 172,
     "metadata": {},
     "output_type": "execute_result"
    }
   ],
   "source": [
    "lr_model2 = LinearRegression()\n",
    "lr_model2.fit(X_train2,y_train2)"
   ]
  },
  {
   "cell_type": "code",
   "execution_count": 174,
   "metadata": {},
   "outputs": [],
   "source": [
    "y_pred_lr2 = lr_model2.predict(X_test2)"
   ]
  },
  {
   "cell_type": "code",
   "execution_count": 175,
   "metadata": {},
   "outputs": [
    {
     "name": "stdout",
     "output_type": "stream",
     "text": [
      "Linear Regression: \n",
      "RMSE: 4701.990662683586\n",
      "R2 score: 0.10972681622758662\n"
     ]
    }
   ],
   "source": [
    "print(\"Linear Regression: \")\n",
    "print(\"RMSE:\",np.sqrt(mean_squared_error(y_test2, y_pred_lr2)))\n",
    "print(\"R2 score:\", r2_score(y_test2, y_pred_lr2))"
   ]
  },
  {
   "cell_type": "code",
   "execution_count": 176,
   "metadata": {},
   "outputs": [],
   "source": [
    "lr_model2_file = open(\"lr2_bf_sales_model_23_oct.pkl\",\"wb\")\n",
    "joblib.dump(lr_model2,lr_model2_file)\n",
    "lr_model2_file.close()"
   ]
  },
  {
   "cell_type": "code",
   "execution_count": 177,
   "metadata": {},
   "outputs": [
    {
     "data": {
      "text/plain": [
       "DecisionTreeRegressor(ccp_alpha=0.0, criterion='mse', max_depth=None,\n",
       "                      max_features=None, max_leaf_nodes=None,\n",
       "                      min_impurity_decrease=0.0, min_impurity_split=None,\n",
       "                      min_samples_leaf=1, min_samples_split=2,\n",
       "                      min_weight_fraction_leaf=0.0, presort='deprecated',\n",
       "                      random_state=None, splitter='best')"
      ]
     },
     "execution_count": 177,
     "metadata": {},
     "output_type": "execute_result"
    }
   ],
   "source": [
    "dtree2 = DecisionTreeRegressor()\n",
    "dtree2.fit(X_train2,y_train2)"
   ]
  },
  {
   "cell_type": "code",
   "execution_count": 178,
   "metadata": {},
   "outputs": [],
   "source": [
    "y_pred_dt2 = dtree2.predict(X_test2)"
   ]
  },
  {
   "cell_type": "code",
   "execution_count": 179,
   "metadata": {},
   "outputs": [
    {
     "name": "stdout",
     "output_type": "stream",
     "text": [
      "Decision Tree Regression: \n",
      "RMSE: 3305.2469792848656\n",
      "R2 score: 0.5600861844057222\n"
     ]
    }
   ],
   "source": [
    "print(\"Decision Tree Regression: \")\n",
    "print(\"RMSE:\",np.sqrt(mean_squared_error(y_test2, y_pred_dt2)))\n",
    "print(\"R2 score:\", r2_score(y_test2, y_pred_dt2))"
   ]
  },
  {
   "cell_type": "code",
   "execution_count": 180,
   "metadata": {},
   "outputs": [],
   "source": [
    "dt2_model_file = open(\"dt2_bf_sales_model_23_oct.pkl\",\"wb\")\n",
    "joblib.dump(dtree2,dt2_model_file)\n",
    "dt2_model_file.close()"
   ]
  },
  {
   "cell_type": "code",
   "execution_count": 132,
   "metadata": {},
   "outputs": [],
   "source": [
    "thanksgiving_day = {\"English\":\"Happy Thanksgiving Day\",\n",
    "\"French\":\"le Jour de Merci Donnant\",\n",
    "\"Spanish\":\"el Día de Acción de Gracias\",\n",
    "\"Portuguese\": \"O Dia de Acção de Graças\",\n",
    "\"German\":\"Danksagung\",\n",
    "\"Hebrew\":\"חג ההודיה שמח\",\n",
    "\"Russian\":\"С Днем Благодарения день\",\n",
    "\"Igbo\":\"Ekele ụbọchị\",\n",
    "\"Yoruba\":\"ojó idupe\",\n",
    "\"Hindi\":\"धन्यवाद दिवस की शुभकामनाएं\",\n",
    "\"Arabic\":\"عيد شكر سعيد\",\n",
    "\"Danish\": \"Helligdag\",\n",
    "\"Twi\":\"Aseda Da\",\n",
    "\"Dutch\": \"Gedenkdagen\",\n",
    "\"Swedish\": \"Helgdag\",\n",
    "\"Polish\": \"Dzień Dziękczynienia\",\n",
    "\"Chinese\": \"感恩節日 [感恩节日] (gănēnjiérì)\",\n",
    "\"Japanese\":\"感謝祭 (kanshasai)\"}\n",
    "\n",
    "happy ={\n",
    "\"English\":\"Happy Thanksgiving\",\n",
    "\"French\": \"Action de grâce\",\n",
    "\"Spanish\":\"Feliz Día de Acción de Gracias!\",\n",
    "\"Portuguese\": \"Feliz (dia de) acção de graças\",\n",
    "\"German\": \"Herzliche Danksagung\",\n",
    "\"Hebrew\":\"חג הודיה שמח\",\n",
    "\"Russian\":\"счастливого дня благодарения\",\n",
    "\"Igbo\":\"ekele ekele\",\n",
    "\"Yoruba\":\"idunnu idunnu\",\n",
    "\"Hindi\":\"थैंक्सगिविंग की शुभकामनाएं\",\n",
    "\"Arabic\":\"عيد شكر سعيد\",\n",
    "\"Danish\": \"Glædelig Helligdag\",\n",
    "\"Twi\":\"Aseda(Afehyiapa)\",\n",
    "\"Dutch\": \"Vrolijke gedenkdagen\",\n",
    "\"Swedish\": \"God Helgdag\",\n",
    "\"Polish\": \"Święto dziękczynienia\",\n",
    "\"Chinese\":\"感恩節快樂 [感恩节快乐] (gănēnjié kuàilè)\",\n",
    "\"Japanese\":\"感謝祭おめでとう (kanshasai omedetō)\"}"
   ]
  },
  {
   "cell_type": "code",
   "execution_count": 133,
   "metadata": {},
   "outputs": [],
   "source": [
    "tdf = pd.DataFrame([thanksgiving_day,happy])"
   ]
  },
  {
   "cell_type": "code",
   "execution_count": 135,
   "metadata": {
    "collapsed": true,
    "jupyter": {
     "outputs_hidden": true
    }
   },
   "outputs": [
    {
     "data": {
      "text/html": [
       "<div>\n",
       "<style scoped>\n",
       "    .dataframe tbody tr th:only-of-type {\n",
       "        vertical-align: middle;\n",
       "    }\n",
       "\n",
       "    .dataframe tbody tr th {\n",
       "        vertical-align: top;\n",
       "    }\n",
       "\n",
       "    .dataframe thead th {\n",
       "        text-align: right;\n",
       "    }\n",
       "</style>\n",
       "<table border=\"1\" class=\"dataframe\">\n",
       "  <thead>\n",
       "    <tr style=\"text-align: right;\">\n",
       "      <th></th>\n",
       "      <th>0</th>\n",
       "      <th>1</th>\n",
       "    </tr>\n",
       "  </thead>\n",
       "  <tbody>\n",
       "    <tr>\n",
       "      <th>English</th>\n",
       "      <td>Happy Thanksgiving Day</td>\n",
       "      <td>Happy Thanksgiving</td>\n",
       "    </tr>\n",
       "    <tr>\n",
       "      <th>French</th>\n",
       "      <td>le Jour de Merci Donnant</td>\n",
       "      <td>Action de grâce</td>\n",
       "    </tr>\n",
       "    <tr>\n",
       "      <th>Spanish</th>\n",
       "      <td>el Día de Acción de Gracias</td>\n",
       "      <td>Feliz Día de Acción de Gracias!</td>\n",
       "    </tr>\n",
       "    <tr>\n",
       "      <th>Portuguese</th>\n",
       "      <td>O Dia de Acção de Graças</td>\n",
       "      <td>Feliz (dia de) acção de graças</td>\n",
       "    </tr>\n",
       "    <tr>\n",
       "      <th>German</th>\n",
       "      <td>Danksagung</td>\n",
       "      <td>Herzliche Danksagung</td>\n",
       "    </tr>\n",
       "    <tr>\n",
       "      <th>Hebrew</th>\n",
       "      <td>חג ההודיה שמח</td>\n",
       "      <td>חג הודיה שמח</td>\n",
       "    </tr>\n",
       "    <tr>\n",
       "      <th>Russian</th>\n",
       "      <td>С Днем Благодарения день</td>\n",
       "      <td>счастливого дня благодарения</td>\n",
       "    </tr>\n",
       "    <tr>\n",
       "      <th>Igbo</th>\n",
       "      <td>Ekele ụbọchị</td>\n",
       "      <td>ekele ekele</td>\n",
       "    </tr>\n",
       "    <tr>\n",
       "      <th>Yoruba</th>\n",
       "      <td>ojó idupe</td>\n",
       "      <td>idunnu idunnu</td>\n",
       "    </tr>\n",
       "    <tr>\n",
       "      <th>Hindi</th>\n",
       "      <td>धन्यवाद दिवस की शुभकामनाएं</td>\n",
       "      <td>थैंक्सगिविंग की शुभकामनाएं</td>\n",
       "    </tr>\n",
       "    <tr>\n",
       "      <th>Arabic</th>\n",
       "      <td>عيد شكر سعيد</td>\n",
       "      <td>عيد شكر سعيد</td>\n",
       "    </tr>\n",
       "    <tr>\n",
       "      <th>Danish</th>\n",
       "      <td>Helligdag</td>\n",
       "      <td>Glædelig Helligdag</td>\n",
       "    </tr>\n",
       "    <tr>\n",
       "      <th>Twi</th>\n",
       "      <td>Aseda Da</td>\n",
       "      <td>Aseda(Afehyiapa)</td>\n",
       "    </tr>\n",
       "    <tr>\n",
       "      <th>Dutch</th>\n",
       "      <td>Gedenkdagen</td>\n",
       "      <td>Vrolijke gedenkdagen</td>\n",
       "    </tr>\n",
       "    <tr>\n",
       "      <th>Swedish</th>\n",
       "      <td>Helgdag</td>\n",
       "      <td>God Helgdag</td>\n",
       "    </tr>\n",
       "    <tr>\n",
       "      <th>Polish</th>\n",
       "      <td>Dzień Dziękczynienia</td>\n",
       "      <td>Święto dziękczynienia</td>\n",
       "    </tr>\n",
       "    <tr>\n",
       "      <th>Chinese</th>\n",
       "      <td>感恩節日 [感恩节日] (gănēnjiérì)</td>\n",
       "      <td>感恩節快樂 [感恩节快乐] (gănēnjié kuàilè)</td>\n",
       "    </tr>\n",
       "    <tr>\n",
       "      <th>Japanese</th>\n",
       "      <td>感謝祭 (kanshasai)</td>\n",
       "      <td>感謝祭おめでとう (kanshasai omedetō)</td>\n",
       "    </tr>\n",
       "  </tbody>\n",
       "</table>\n",
       "</div>"
      ],
      "text/plain": [
       "                                      0                                1\n",
       "English          Happy Thanksgiving Day               Happy Thanksgiving\n",
       "French         le Jour de Merci Donnant                  Action de grâce\n",
       "Spanish     el Día de Acción de Gracias  Feliz Día de Acción de Gracias!\n",
       "Portuguese     O Dia de Acção de Graças   Feliz (dia de) acção de graças\n",
       "German                       Danksagung             Herzliche Danksagung\n",
       "Hebrew                    חג ההודיה שמח                     חג הודיה שמח\n",
       "Russian        С Днем Благодарения день     счастливого дня благодарения\n",
       "Igbo                       Ekele ụbọchị                      ekele ekele\n",
       "Yoruba                        ojó idupe                    idunnu idunnu\n",
       "Hindi        धन्यवाद दिवस की शुभकामनाएं       थैंक्सगिविंग की शुभकामनाएं\n",
       "Arabic                     عيد شكر سعيد                     عيد شكر سعيد\n",
       "Danish                        Helligdag               Glædelig Helligdag\n",
       "Twi                            Aseda Da                 Aseda(Afehyiapa)\n",
       "Dutch                       Gedenkdagen             Vrolijke gedenkdagen\n",
       "Swedish                         Helgdag                      God Helgdag\n",
       "Polish             Dzień Dziękczynienia            Święto dziękczynienia\n",
       "Chinese        感恩節日 [感恩节日] (gănēnjiérì)  感恩節快樂 [感恩节快乐] (gănēnjié kuàilè)\n",
       "Japanese                感謝祭 (kanshasai)     感謝祭おめでとう (kanshasai omedetō)"
      ]
     },
     "execution_count": 135,
     "metadata": {},
     "output_type": "execute_result"
    }
   ],
   "source": [
    "tdf.T"
   ]
  },
  {
   "cell_type": "code",
   "execution_count": 136,
   "metadata": {},
   "outputs": [
    {
     "data": {
      "text/plain": [
       "Index(['English', 'French', 'Spanish', 'Portuguese', 'German', 'Hebrew',\n",
       "       'Russian', 'Igbo', 'Yoruba', 'Hindi', 'Arabic', 'Danish', 'Twi',\n",
       "       'Dutch', 'Swedish', 'Polish', 'Chinese', 'Japanese'],\n",
       "      dtype='object')"
      ]
     },
     "execution_count": 136,
     "metadata": {},
     "output_type": "execute_result"
    }
   ],
   "source": [
    "tdf.columns"
   ]
  },
  {
   "cell_type": "code",
   "execution_count": 143,
   "metadata": {},
   "outputs": [],
   "source": [
    "tdf2 = pd.DataFrame(tdf.T)"
   ]
  },
  {
   "cell_type": "code",
   "execution_count": 144,
   "metadata": {},
   "outputs": [
    {
     "data": {
      "text/html": [
       "<div>\n",
       "<style scoped>\n",
       "    .dataframe tbody tr th:only-of-type {\n",
       "        vertical-align: middle;\n",
       "    }\n",
       "\n",
       "    .dataframe tbody tr th {\n",
       "        vertical-align: top;\n",
       "    }\n",
       "\n",
       "    .dataframe thead th {\n",
       "        text-align: right;\n",
       "    }\n",
       "</style>\n",
       "<table border=\"1\" class=\"dataframe\">\n",
       "  <thead>\n",
       "    <tr style=\"text-align: right;\">\n",
       "      <th></th>\n",
       "      <th>0</th>\n",
       "      <th>1</th>\n",
       "    </tr>\n",
       "  </thead>\n",
       "  <tbody>\n",
       "    <tr>\n",
       "      <th>English</th>\n",
       "      <td>Happy Thanksgiving Day</td>\n",
       "      <td>Happy Thanksgiving</td>\n",
       "    </tr>\n",
       "    <tr>\n",
       "      <th>French</th>\n",
       "      <td>le Jour de Merci Donnant</td>\n",
       "      <td>Action de grâce</td>\n",
       "    </tr>\n",
       "    <tr>\n",
       "      <th>Spanish</th>\n",
       "      <td>el Día de Acción de Gracias</td>\n",
       "      <td>Feliz Día de Acción de Gracias!</td>\n",
       "    </tr>\n",
       "    <tr>\n",
       "      <th>Portuguese</th>\n",
       "      <td>O Dia de Acção de Graças</td>\n",
       "      <td>Feliz (dia de) acção de graças</td>\n",
       "    </tr>\n",
       "    <tr>\n",
       "      <th>German</th>\n",
       "      <td>Danksagung</td>\n",
       "      <td>Herzliche Danksagung</td>\n",
       "    </tr>\n",
       "  </tbody>\n",
       "</table>\n",
       "</div>"
      ],
      "text/plain": [
       "                                      0                                1\n",
       "English          Happy Thanksgiving Day               Happy Thanksgiving\n",
       "French         le Jour de Merci Donnant                  Action de grâce\n",
       "Spanish     el Día de Acción de Gracias  Feliz Día de Acción de Gracias!\n",
       "Portuguese     O Dia de Acção de Graças   Feliz (dia de) acção de graças\n",
       "German                       Danksagung             Herzliche Danksagung"
      ]
     },
     "execution_count": 144,
     "metadata": {},
     "output_type": "execute_result"
    }
   ],
   "source": [
    "tdf2.head()"
   ]
  },
  {
   "cell_type": "code",
   "execution_count": 146,
   "metadata": {},
   "outputs": [],
   "source": [
    "tdf2 = tdf2.reset_index()"
   ]
  },
  {
   "cell_type": "code",
   "execution_count": 148,
   "metadata": {},
   "outputs": [],
   "source": [
    "tdf2.columns = [\"Language\",\"Day\",\"Word\"]"
   ]
  },
  {
   "cell_type": "code",
   "execution_count": 149,
   "metadata": {},
   "outputs": [
    {
     "data": {
      "text/html": [
       "<div>\n",
       "<style scoped>\n",
       "    .dataframe tbody tr th:only-of-type {\n",
       "        vertical-align: middle;\n",
       "    }\n",
       "\n",
       "    .dataframe tbody tr th {\n",
       "        vertical-align: top;\n",
       "    }\n",
       "\n",
       "    .dataframe thead th {\n",
       "        text-align: right;\n",
       "    }\n",
       "</style>\n",
       "<table border=\"1\" class=\"dataframe\">\n",
       "  <thead>\n",
       "    <tr style=\"text-align: right;\">\n",
       "      <th></th>\n",
       "      <th>Language</th>\n",
       "      <th>Day</th>\n",
       "      <th>Word</th>\n",
       "    </tr>\n",
       "  </thead>\n",
       "  <tbody>\n",
       "    <tr>\n",
       "      <th>0</th>\n",
       "      <td>English</td>\n",
       "      <td>Happy Thanksgiving Day</td>\n",
       "      <td>Happy Thanksgiving</td>\n",
       "    </tr>\n",
       "    <tr>\n",
       "      <th>1</th>\n",
       "      <td>French</td>\n",
       "      <td>le Jour de Merci Donnant</td>\n",
       "      <td>Action de grâce</td>\n",
       "    </tr>\n",
       "    <tr>\n",
       "      <th>2</th>\n",
       "      <td>Spanish</td>\n",
       "      <td>el Día de Acción de Gracias</td>\n",
       "      <td>Feliz Día de Acción de Gracias!</td>\n",
       "    </tr>\n",
       "    <tr>\n",
       "      <th>3</th>\n",
       "      <td>Portuguese</td>\n",
       "      <td>O Dia de Acção de Graças</td>\n",
       "      <td>Feliz (dia de) acção de graças</td>\n",
       "    </tr>\n",
       "    <tr>\n",
       "      <th>4</th>\n",
       "      <td>German</td>\n",
       "      <td>Danksagung</td>\n",
       "      <td>Herzliche Danksagung</td>\n",
       "    </tr>\n",
       "  </tbody>\n",
       "</table>\n",
       "</div>"
      ],
      "text/plain": [
       "     Language                          Day                             Word\n",
       "0     English       Happy Thanksgiving Day               Happy Thanksgiving\n",
       "1      French     le Jour de Merci Donnant                  Action de grâce\n",
       "2     Spanish  el Día de Acción de Gracias  Feliz Día de Acción de Gracias!\n",
       "3  Portuguese     O Dia de Acção de Graças   Feliz (dia de) acção de graças\n",
       "4      German                   Danksagung             Herzliche Danksagung"
      ]
     },
     "execution_count": 149,
     "metadata": {},
     "output_type": "execute_result"
    }
   ],
   "source": [
    "tdf2.head()"
   ]
  },
  {
   "cell_type": "code",
   "execution_count": 150,
   "metadata": {},
   "outputs": [],
   "source": [
    "tdf2.to_csv(\"thanksgiving_in_multi_lang_data.csv\")"
   ]
  },
  {
   "cell_type": "code",
   "execution_count": 151,
   "metadata": {},
   "outputs": [],
   "source": [
    "from wordcloud import WordCloud"
   ]
  },
  {
   "cell_type": "code",
   "execution_count": 154,
   "metadata": {},
   "outputs": [],
   "source": [
    "day = \" \".join(tdf2['Day'].tolist())"
   ]
  },
  {
   "cell_type": "code",
   "execution_count": 155,
   "metadata": {},
   "outputs": [],
   "source": [
    "mywordcloud = WordCloud().generate(day)"
   ]
  },
  {
   "cell_type": "code",
   "execution_count": 156,
   "metadata": {},
   "outputs": [
    {
     "data": {
      "text/plain": [
       "<matplotlib.image.AxesImage at 0x7f2724eeed90>"
      ]
     },
     "execution_count": 156,
     "metadata": {},
     "output_type": "execute_result"
    },
    {
     "data": {
      "image/png": "[encoded data removed]",
      "text/plain": [
       "<Figure size 432x288 with 1 Axes>"
      ]
     },
     "metadata": {
      "needs_background": "light"
     },
     "output_type": "display_data"
    }
   ],
   "source": [
    "plt.imshow(mywordcloud,interpolation='bilinear')\n",
    "plt.show()"
   ]
  },
  {
   "cell_type": "code",
   "execution_count": null,
   "metadata": {},
   "outputs": [],
   "source": []
  }
 ],
 "metadata": {
  "kernelspec": {
   "display_name": "Python 3",
   "language": "python",
   "name": "python3"
  },
  "language_info": {
   "codemirror_mode": {
    "name": "ipython",
    "version": 3
   },
   "file_extension": ".py",
   "mimetype": "text/x-python",
   "name": "python",
   "nbconvert_exporter": "python",
   "pygments_lexer": "ipython3",
   "version": "3.7.5"
  }
 },
 "nbformat": 4,
 "nbformat_minor": 4
}
